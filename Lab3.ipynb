{
 "cells": [
  {
   "cell_type": "code",
   "execution_count": 1,
   "id": "b95d172b-b57e-40a3-8761-5c4989656932",
   "metadata": {
    "id": "b95d172b-b57e-40a3-8761-5c4989656932"
   },
   "outputs": [],
   "source": [
    "import torch\n",
    "import random\n",
    "import numpy as np\n",
    "import pandas as pd\n",
    "\n",
    "random.seed(0)\n",
    "np.random.seed(0)\n",
    "torch.manual_seed(0)\n",
    "torch.cuda.manual_seed(0)\n",
    "torch.backends.cudnn.deterministic = True"
   ]
  },
  {
   "cell_type": "code",
   "execution_count": 2,
   "id": "469a23bd-5705-4ee7-a311-458b8dac89c8",
   "metadata": {
    "id": "469a23bd-5705-4ee7-a311-458b8dac89c8"
   },
   "outputs": [],
   "source": [
    "import torchvision.datasets\n",
    "MNIST_train = torchvision.datasets.MNIST('./', download=True, train=True)\n",
    "MNIST_test = torchvision.datasets.MNIST('./', download=True, train=False)"
   ]
  },
  {
   "cell_type": "code",
   "execution_count": 3,
   "id": "922dfe42-898d-4895-8899-78ab91fca627",
   "metadata": {
    "colab": {
     "base_uri": "https://localhost:8080/"
    },
    "id": "922dfe42-898d-4895-8899-78ab91fca627",
    "outputId": "c4c28f22-311e-4e86-e01d-5393e38389e2"
   },
   "outputs": [
    {
     "name": "stderr",
     "output_type": "stream",
     "text": [
      "/usr/local/lib/python3.7/dist-packages/torchvision/datasets/mnist.py:62: UserWarning: train_data has been renamed data\n",
      "  warnings.warn(\"train_data has been renamed data\")\n",
      "/usr/local/lib/python3.7/dist-packages/torchvision/datasets/mnist.py:52: UserWarning: train_labels has been renamed targets\n",
      "  warnings.warn(\"train_labels has been renamed targets\")\n",
      "/usr/local/lib/python3.7/dist-packages/torchvision/datasets/mnist.py:67: UserWarning: test_data has been renamed data\n",
      "  warnings.warn(\"test_data has been renamed data\")\n",
      "/usr/local/lib/python3.7/dist-packages/torchvision/datasets/mnist.py:57: UserWarning: test_labels has been renamed targets\n",
      "  warnings.warn(\"test_labels has been renamed targets\")\n"
     ]
    }
   ],
   "source": [
    "X_train = MNIST_train.train_data\n",
    "y_train = MNIST_train.train_labels\n",
    "X_test = MNIST_test.test_data\n",
    "y_test = MNIST_test.test_labels"
   ]
  },
  {
   "cell_type": "code",
   "execution_count": 4,
   "id": "d5711445-4aef-4b9b-8cb1-b606e3331e7f",
   "metadata": {
    "colab": {
     "base_uri": "https://localhost:8080/"
    },
    "id": "d5711445-4aef-4b9b-8cb1-b606e3331e7f",
    "outputId": "04b1cd24-4bdf-4250-bef0-77bd1b1eec56"
   },
   "outputs": [
    {
     "data": {
      "text/plain": [
       "(torch.uint8, torch.int64)"
      ]
     },
     "execution_count": 4,
     "metadata": {},
     "output_type": "execute_result"
    }
   ],
   "source": [
    "X_train.dtype, y_train.dtype"
   ]
  },
  {
   "cell_type": "code",
   "execution_count": 5,
   "id": "0db92ebc-fea3-41f6-9d0c-a455cbb9a8ce",
   "metadata": {
    "id": "0db92ebc-fea3-41f6-9d0c-a455cbb9a8ce"
   },
   "outputs": [],
   "source": [
    "X_train = X_train.float()\n",
    "X_test = X_test.float()"
   ]
  },
  {
   "cell_type": "code",
   "execution_count": 6,
   "id": "5935f5c0-d567-44f4-8c44-d3e301e8441f",
   "metadata": {
    "colab": {
     "base_uri": "https://localhost:8080/"
    },
    "id": "5935f5c0-d567-44f4-8c44-d3e301e8441f",
    "outputId": "483da56b-86ec-4378-a64d-1240dd720c02"
   },
   "outputs": [
    {
     "data": {
      "text/plain": [
       "(torch.Size([60000, 28, 28]), torch.Size([10000, 28, 28]))"
      ]
     },
     "execution_count": 6,
     "metadata": {},
     "output_type": "execute_result"
    }
   ],
   "source": [
    "X_train.shape, X_test.shape"
   ]
  },
  {
   "cell_type": "code",
   "execution_count": 7,
   "id": "42901169-39a9-4a44-9d1e-ab7014d894e1",
   "metadata": {
    "colab": {
     "base_uri": "https://localhost:8080/"
    },
    "id": "42901169-39a9-4a44-9d1e-ab7014d894e1",
    "outputId": "0331a618-5885-47f8-bd09-4b0a1ca6f343"
   },
   "outputs": [
    {
     "data": {
      "text/plain": [
       "(torch.Size([60000]), torch.Size([10000]))"
      ]
     },
     "execution_count": 7,
     "metadata": {},
     "output_type": "execute_result"
    }
   ],
   "source": [
    "y_train.shape, y_test.shape"
   ]
  },
  {
   "cell_type": "code",
   "execution_count": 8,
   "id": "f017ab38-63c5-478c-a3fd-9cb5c3f8486e",
   "metadata": {
    "colab": {
     "base_uri": "https://localhost:8080/",
     "height": 284
    },
    "id": "f017ab38-63c5-478c-a3fd-9cb5c3f8486e",
    "outputId": "0b3bcbf0-bdc6-4652-92d1-d7590040c689"
   },
   "outputs": [
    {
     "data": {
      "image/png": "[encoded data removed]",
      "text/plain": [
       "<Figure size 432x288 with 1 Axes>"
      ]
     },
     "metadata": {
      "needs_background": "light"
     },
     "output_type": "display_data"
    },
    {
     "name": "stdout",
     "output_type": "stream",
     "text": [
      "tensor(5)\n"
     ]
    }
   ],
   "source": [
    "import matplotlib.pyplot as plt\n",
    "plt.imshow(X_train[0, :, :])\n",
    "plt.show()\n",
    "print(y_train[0])"
   ]
  },
  {
   "cell_type": "code",
   "execution_count": 9,
   "id": "b20ad24b-a9d7-46dd-88b9-0124b3e1c49c",
   "metadata": {
    "id": "b20ad24b-a9d7-46dd-88b9-0124b3e1c49c"
   },
   "outputs": [],
   "source": [
    "X_train = X_train.reshape([-1, 28 * 28])\n",
    "X_test = X_test.reshape([-1, 28 * 28])"
   ]
  },
  {
   "cell_type": "code",
   "execution_count": 10,
   "id": "01b59a3c-633e-428e-afb2-94927856f443",
   "metadata": {
    "id": "01b59a3c-633e-428e-afb2-94927856f443"
   },
   "outputs": [],
   "source": [
    "class MNISTNet(torch.nn.Module):\n",
    "    def __init__(self, n_hidden_neurons ,activation = 'sigmoid', n_layers = 3):\n",
    "      super(MNISTNet, self).__init__()\n",
    "\n",
    "      if activation == 'sigmoid':\n",
    "          act = torch.nn.Sigmoid()\n",
    "      elif activation == 'relu':\n",
    "          act = torch.nn.ReLU()\n",
    "\n",
    "      self.fc1 = torch.nn.Linear(28 * 28, n_hidden_neurons)\n",
    "      self.ac1 = act\n",
    "\n",
    "      self.hidden_layers = torch.nn.Sequential()\n",
    "      for i in range(n_layers):\n",
    "          self.hidden_layers.add_module(f'hidden_{i}',torch.nn.Linear(n_hidden_neurons, n_hidden_neurons))\n",
    "          self.hidden_layers.add_module(f'act_{i}',act)\n",
    "\n",
    "      self.fc2 = torch.nn.Linear(n_hidden_neurons, 10)\n",
    "\n",
    "    def forward(self, x):\n",
    "      x = self.fc1(x)\n",
    "      x = self.hidden_layers(x)\n",
    "      x = self.fc2(x)\n",
    "      return x"
   ]
  },
  {
   "cell_type": "code",
   "execution_count": 11,
   "id": "EgcV8Dnw4h14",
   "metadata": {
    "id": "EgcV8Dnw4h14"
   },
   "outputs": [],
   "source": [
    "from time import time\n",
    "def train(mnistnet, optimizer, X_train, y_train, X_test, y_test, device):\n",
    "  loss = torch.nn.CrossEntropyLoss()\n",
    "  batch_size = 100\n",
    "  test_accuracy_history = []\n",
    "  test_loss_history = []\n",
    "\n",
    "  X_test = X_test.to(device)\n",
    "  y_test = y_test.to(device)\n",
    "\n",
    "  start_time = time()\n",
    "  for epoch in range(100):\n",
    "      order = np.random.permutation(len(X_train))\n",
    "\n",
    "      for start_index in range(0, len(X_train), batch_size):\n",
    "          optimizer.zero_grad()\n",
    "\n",
    "          batch_indexes = order[start_index:start_index+batch_size]\n",
    "\n",
    "          X_batch = X_train[batch_indexes].to(device)\n",
    "          y_batch = y_train[batch_indexes].to(device)\n",
    "\n",
    "          preds = mnistnet.forward(X_batch) \n",
    "\n",
    "          loss_value = loss(preds, y_batch)\n",
    "          loss_value.backward()\n",
    "\n",
    "          optimizer.step()\n",
    "\n",
    "      test_preds = mnistnet.forward(X_test)\n",
    "      test_loss_history.append(loss(test_preds, y_test))\n",
    "\n",
    "      accuracy = (test_preds.argmax(dim=1) == y_test).float().mean()\n",
    "      test_accuracy_history.append(accuracy)\n",
    "      if epoch % 20 == 0:\n",
    "          print(accuracy)\n",
    "  finish_time = time()\n",
    "  print('working time = '+ str(finish_time - start_time))"
   ]
  },
  {
   "cell_type": "markdown",
   "id": "PtYNgK_izvrX",
   "metadata": {
    "id": "PtYNgK_izvrX"
   },
   "source": [
    "Создадим нейросеть по заданным в варианте данным"
   ]
  },
  {
   "cell_type": "markdown",
   "id": "iQn68FxyV0da",
   "metadata": {
    "id": "iQn68FxyV0da"
   },
   "source": [
    "1 задание (device = cuda:0)"
   ]
  },
  {
   "cell_type": "code",
   "execution_count": 12,
   "id": "CIgaCajKVurY",
   "metadata": {
    "colab": {
     "base_uri": "https://localhost:8080/"
    },
    "id": "CIgaCajKVurY",
    "outputId": "9d915173-47e1-4ad0-eab4-3e2d6d68843a"
   },
   "outputs": [
    {
     "name": "stdout",
     "output_type": "stream",
     "text": [
      "tensor(0.3460, device='cuda:0')\n",
      "tensor(0.8450, device='cuda:0')\n",
      "tensor(0.8879, device='cuda:0')\n",
      "tensor(0.8949, device='cuda:0')\n",
      "tensor(0.8942, device='cuda:0')\n",
      "working time = 130.4632167816162\n"
     ]
    }
   ],
   "source": [
    "device = torch.device('cuda:0')\n",
    "mnist_net = MNISTNet(20).to(device)\n",
    "optimizer = torch.optim.Adam(mnist_net.parameters(), lr=0.001)\n",
    "train(mnist_net,optimizer,X_train,y_train,X_test,y_test, device) "
   ]
  },
  {
   "cell_type": "markdown",
   "id": "ofkni07cVgc3",
   "metadata": {
    "id": "ofkni07cVgc3"
   },
   "source": [
    "2 задание"
   ]
  },
  {
   "cell_type": "code",
   "execution_count": 13,
   "id": "n9xQi-BZ42Va",
   "metadata": {
    "colab": {
     "base_uri": "https://localhost:8080/"
    },
    "id": "n9xQi-BZ42Va",
    "outputId": "36a9bc5f-3105-44bb-ed9b-61f3fa14c0e9"
   },
   "outputs": [
    {
     "name": "stdout",
     "output_type": "stream",
     "text": [
      "n_hidden_neurons 1\n",
      "tensor(0.2091, device='cuda:0')\n",
      "tensor(0.2476, device='cuda:0')\n",
      "tensor(0.3050, device='cuda:0')\n",
      "tensor(0.3391, device='cuda:0')\n",
      "tensor(0.3821, device='cuda:0')\n",
      "working time = 127.10010814666748\n",
      "n_hidden_neurons 17\n",
      "tensor(0.6139, device='cuda:0')\n",
      "tensor(0.8764, device='cuda:0')\n",
      "tensor(0.8906, device='cuda:0')\n",
      "tensor(0.8967, device='cuda:0')\n",
      "tensor(0.8972, device='cuda:0')\n",
      "working time = 127.05505156517029\n",
      "n_hidden_neurons 33\n",
      "tensor(0.7362, device='cuda:0')\n",
      "tensor(0.9044, device='cuda:0')\n",
      "tensor(0.9064, device='cuda:0')\n",
      "tensor(0.9122, device='cuda:0')\n",
      "tensor(0.9245, device='cuda:0')\n",
      "working time = 134.26904463768005\n",
      "n_hidden_neurons 49\n",
      "tensor(0.7538, device='cuda:0')\n",
      "tensor(0.8978, device='cuda:0')\n",
      "tensor(0.9216, device='cuda:0')\n",
      "tensor(0.9195, device='cuda:0')\n",
      "tensor(0.9246, device='cuda:0')\n",
      "working time = 135.4231493473053\n"
     ]
    }
   ],
   "source": [
    "for n in range(1,64,16):\n",
    "  mnist_net = MNISTNet(n).to(device)\n",
    "  optimizer = torch.optim.Adam(mnist_net.parameters(), lr=0.001)\n",
    "  batch_size = 10240\n",
    "  print(f'n_hidden_neurons {n}')\n",
    "  train(mnist_net,optimizer,X_train,y_train,X_test,y_test, device) "
   ]
  },
  {
   "cell_type": "markdown",
   "id": "s77vlN97B0wL",
   "metadata": {
    "id": "s77vlN97B0wL"
   },
   "source": [
    "Увеличение количества нейронов прямо влияет на точность предсказаний нейросети"
   ]
  },
  {
   "cell_type": "code",
   "execution_count": 14,
   "id": "usgC93q4B9BQ",
   "metadata": {
    "colab": {
     "base_uri": "https://localhost:8080/"
    },
    "id": "usgC93q4B9BQ",
    "outputId": "cf5e81c6-c0d3-4b41-a18b-b2bf7273172a"
   },
   "outputs": [
    {
     "name": "stdout",
     "output_type": "stream",
     "text": [
      "activation type: sigmoid\n",
      "tensor(0.3175, device='cuda:0')\n",
      "tensor(0.8906, device='cuda:0')\n",
      "tensor(0.8812, device='cuda:0')\n",
      "tensor(0.9086, device='cuda:0')\n",
      "tensor(0.9020, device='cuda:0')\n",
      "working time = 127.172443151474\n"
     ]
    }
   ],
   "source": [
    "mnist_net = MNISTNet(20,'sigmoid').to(device)\n",
    "optimizer = torch.optim.Adam(mnist_net.parameters(), lr=0.001)\n",
    "print(f'activation type: sigmoid')\n",
    "train(mnist_net,optimizer,X_train,y_train,X_test,y_test, device) "
   ]
  },
  {
   "cell_type": "code",
   "execution_count": 15,
   "id": "YxlE3sapCYGB",
   "metadata": {
    "colab": {
     "base_uri": "https://localhost:8080/"
    },
    "id": "YxlE3sapCYGB",
    "outputId": "b0823065-8525-4671-e2f8-7b4e95f12a31"
   },
   "outputs": [
    {
     "name": "stdout",
     "output_type": "stream",
     "text": [
      "activation type: relu\n",
      "tensor(0.9260, device='cuda:0')\n",
      "tensor(0.9587, device='cuda:0')\n",
      "tensor(0.9594, device='cuda:0')\n",
      "tensor(0.9577, device='cuda:0')\n",
      "tensor(0.9596, device='cuda:0')\n",
      "working time = 129.93052196502686\n"
     ]
    }
   ],
   "source": [
    "mnist_net = MNISTNet(20,'relu').to(device)\n",
    "optimizer = torch.optim.Adam(mnist_net.parameters(), lr=0.001)\n",
    "print(f'activation type: relu')\n",
    "train(mnist_net,optimizer,X_train,y_train,X_test,y_test, device) "
   ]
  },
  {
   "cell_type": "markdown",
   "id": "Eru0pEbjDdRV",
   "metadata": {
    "id": "Eru0pEbjDdRV"
   },
   "source": [
    "Изменение типа активации привело к увеличению точности предсказаний на 5%"
   ]
  },
  {
   "cell_type": "code",
   "execution_count": 16,
   "id": "wB9vgKRpDqgh",
   "metadata": {
    "colab": {
     "base_uri": "https://localhost:8080/"
    },
    "id": "wB9vgKRpDqgh",
    "outputId": "55f0fa1f-4f43-47c8-b9ee-1971ff5087d1"
   },
   "outputs": [
    {
     "name": "stdout",
     "output_type": "stream",
     "text": [
      "hidden layers: 1\n",
      "tensor(0.8540, device='cuda:0')\n",
      "tensor(0.9090, device='cuda:0')\n",
      "tensor(0.9112, device='cuda:0')\n",
      "tensor(0.9109, device='cuda:0')\n",
      "tensor(0.9175, device='cuda:0')\n",
      "working time = 94.5099823474884\n",
      "hidden layers: 5\n",
      "tensor(0.2581, device='cuda:0')\n",
      "tensor(0.7398, device='cuda:0')\n",
      "tensor(0.7979, device='cuda:0')\n",
      "tensor(0.8030, device='cuda:0')\n",
      "tensor(0.8404, device='cuda:0')\n",
      "working time = 161.09000444412231\n",
      "hidden layers: 9\n",
      "tensor(0.2105, device='cuda:0')\n",
      "tensor(0.4219, device='cuda:0')\n",
      "tensor(0.5552, device='cuda:0')\n",
      "tensor(0.7155, device='cuda:0')\n",
      "tensor(0.5763, device='cuda:0')\n",
      "working time = 224.18694424629211\n",
      "hidden layers: 13\n",
      "tensor(0.1135, device='cuda:0')\n",
      "tensor(0.1135, device='cuda:0')\n",
      "tensor(0.1135, device='cuda:0')\n",
      "tensor(0.1135, device='cuda:0')\n",
      "tensor(0.1135, device='cuda:0')\n",
      "working time = 287.4558138847351\n"
     ]
    }
   ],
   "source": [
    "for n in range(1,16,4):\n",
    "  mnist_net = MNISTNet(20, 'sigmoid', n).to(device)\n",
    "  optimizer = torch.optim.Adam(mnist_net.parameters(), lr=0.001)\n",
    "  print(f'hidden layers: {n}')\n",
    "  train(mnist_net,optimizer,X_train,y_train,X_test,y_test, device) "
   ]
  },
  {
   "cell_type": "markdown",
   "id": "IvI8kUWgFTtn",
   "metadata": {
    "id": "IvI8kUWgFTtn"
   },
   "source": [
    "Увеличение количества слоёв привело к уменьшению точности предсказаний (требуется увеличение количества эпох, чтобы увеличение количества слоёв привело к улучшению результатов предсказаний)"
   ]
  },
  {
   "cell_type": "markdown",
   "id": "JGIvbrx7Vk6v",
   "metadata": {
    "id": "JGIvbrx7Vk6v"
   },
   "source": [
    "3 задание"
   ]
  },
  {
   "cell_type": "code",
   "execution_count": 17,
   "id": "d57e448f-4eb8-4f52-8324-bc93e4a8a3e0",
   "metadata": {
    "colab": {
     "base_uri": "https://localhost:8080/"
    },
    "id": "d57e448f-4eb8-4f52-8324-bc93e4a8a3e0",
    "outputId": "24eeb99c-adb1-4699-9d4d-a13d7c1dc6e5"
   },
   "outputs": [
    {
     "name": "stdout",
     "output_type": "stream",
     "text": [
      "tensor(0.4919)\n",
      "tensor(0.8861)\n",
      "tensor(0.9027)\n",
      "tensor(0.9019)\n",
      "tensor(0.9084)\n",
      "working time = 91.08329224586487\n"
     ]
    }
   ],
   "source": [
    "device = torch.device('cpu')\n",
    "mnist_net = MNISTNet(20).to(device)\n",
    "optimizer = torch.optim.Adam(mnist_net.parameters(), lr=0.001)\n",
    "train(mnist_net,optimizer,X_train,y_train,X_test,y_test, device) "
   ]
  },
  {
   "cell_type": "code",
   "execution_count": 18,
   "id": "T0Nz_FiG5mVI",
   "metadata": {
    "colab": {
     "base_uri": "https://localhost:8080/"
    },
    "id": "T0Nz_FiG5mVI",
    "outputId": "b51c45ca-76b7-40f0-c5ac-bd9392401ab2"
   },
   "outputs": [
    {
     "name": "stdout",
     "output_type": "stream",
     "text": [
      "tensor(0.5233, device='cuda:0')\n",
      "tensor(0.8639, device='cuda:0')\n",
      "tensor(0.8891, device='cuda:0')\n",
      "tensor(0.9058, device='cuda:0')\n",
      "tensor(0.9050, device='cuda:0')\n",
      "working time = 127.36763334274292\n"
     ]
    }
   ],
   "source": [
    "device = torch.device('cuda:0')\n",
    "mnist_net = MNISTNet(20).to(device)\n",
    "optimizer = torch.optim.Adam(mnist_net.parameters(), lr=0.001)\n",
    "train(mnist_net,optimizer,X_train,y_train,X_test,y_test, device) "
   ]
  },
  {
   "cell_type": "markdown",
   "id": "fCeEmN3sVl8S",
   "metadata": {
    "id": "fCeEmN3sVl8S"
   },
   "source": [
    "Время обучения при переходе на GPU повысилось на 36 секунд"
   ]
  },
  {
   "cell_type": "markdown",
   "id": "r_dSwZtMVpzd",
   "metadata": {
    "id": "r_dSwZtMVpzd"
   },
   "source": [
    "4 задание"
   ]
  },
  {
   "cell_type": "markdown",
   "id": "9MEnsAOHVdjl",
   "metadata": {
    "id": "9MEnsAOHVdjl"
   },
   "source": [
    "Проверим переобучение, добавив метод с выводом потерь на график"
   ]
  },
  {
   "cell_type": "code",
   "execution_count": 23,
   "id": "08qMj2UcGjae",
   "metadata": {
    "id": "08qMj2UcGjae"
   },
   "outputs": [],
   "source": [
    "def plotTrain(mnistnet, optimizer, X_train, y_train, X_test, y_test, device):\n",
    "  loss = torch.nn.CrossEntropyLoss()\n",
    "  batch_size = 100\n",
    "  test_accuracy_history = []\n",
    "  test_loss_history = []\n",
    "  train_loss_history = []\n",
    "\n",
    "  X_test = X_test.to(device)\n",
    "  y_test = y_test.to(device)\n",
    "\n",
    "  start_time = time()\n",
    "  for epoch in range(100):\n",
    "    order = np.random.permutation(len(X_train))\n",
    "\n",
    "    train_step_loss_history = []\n",
    "    for start_index in range(0, len(X_train), batch_size):\n",
    "        optimizer.zero_grad()\n",
    "        \n",
    "        batch_indexes = order[start_index:start_index+batch_size]\n",
    "        \n",
    "        X_batch = X_train[batch_indexes].to(device)\n",
    "        y_batch = y_train[batch_indexes].to(device)\n",
    "        \n",
    "        preds = mnist_net.forward(X_batch) \n",
    "        \n",
    "        loss_value = loss(preds, y_batch)\n",
    "        loss_value.backward()\n",
    "        \n",
    "        optimizer.step()\n",
    "        train_step_loss_history.append(loss_value.item())\n",
    "\n",
    "    train_loss_history.append(torch.mean(torch.Tensor(train_step_loss_history)).item())\n",
    "    test_preds = mnist_net.forward(X_test)\n",
    "    test_loss_value = loss(test_preds, y_test)\n",
    "    test_loss_history.append(test_loss_value.item())\n",
    "    \n",
    "    accuracy = (test_preds.argmax(dim=1) == y_test).float().mean()\n",
    "    test_accuracy_history.append(accuracy)\n",
    "  pd.DataFrame({'train': train_loss_history, 'test': test_loss_history}).plot()"
   ]
  },
  {
   "cell_type": "code",
   "execution_count": 24,
   "id": "ZtHXYgjZGO_D",
   "metadata": {
    "colab": {
     "base_uri": "https://localhost:8080/",
     "height": 266
    },
    "id": "ZtHXYgjZGO_D",
    "outputId": "47b3cb78-f53c-4daa-9a94-e4e04820f6fb"
   },
   "outputs": [
    {
     "data": {
      "image/png": "[encoded data removed]",
      "text/plain": [
       "<Figure size 432x288 with 1 Axes>"
      ]
     },
     "metadata": {
      "needs_background": "light"
     },
     "output_type": "display_data"
    }
   ],
   "source": [
    "import matplotlib.pyplot as plt\n",
    "device = torch.device('cuda:0')\n",
    "mnist_net = MNISTNet(20).to(device)\n",
    "optimizer = torch.optim.Adam(mnist_net.parameters(), lr=0.001)\n",
    "plotTrain(mnist_net,optimizer,X_train,y_train,X_test,y_test, device) "
   ]
  },
  {
   "cell_type": "markdown",
   "id": "nO5xBOawVYN3",
   "metadata": {
    "id": "nO5xBOawVYN3"
   },
   "source": [
    "По графику можно увидеть, что переобучения нет (графики потерь кореллируют между собой)"
   ]
  }
 ],
 "metadata": {
  "accelerator": "GPU",
  "colab": {
   "collapsed_sections": [],
   "name": "Lab3.ipynb",
   "provenance": []
  },
  "kernelspec": {
   "display_name": "Python 3 (ipykernel)",
   "language": "python",
   "name": "python3"
  },
  "language_info": {
   "codemirror_mode": {
    "name": "ipython",
    "version": 3
   },
   "file_extension": ".py",
   "mimetype": "text/x-python",
   "name": "python",
   "nbconvert_exporter": "python",
   "pygments_lexer": "ipython3",
   "version": "3.8.6"
  }
 },
 "nbformat": 4,
 "nbformat_minor": 5
}
