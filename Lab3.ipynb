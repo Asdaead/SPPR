{
 "cells": [
  {
   "cell_type": "code",
   "execution_count": 1,
   "id": "b95d172b-b57e-40a3-8761-5c4989656932",
   "metadata": {},
   "outputs": [],
   "source": [
    "import torch\n",
    "import random\n",
    "import numpy as np\n",
    "\n",
    "random.seed(0)\n",
    "np.random.seed(0)\n",
    "torch.manual_seed(0)\n",
    "torch.cuda.manual_seed(0)\n",
    "torch.backends.cudnn.deterministic = True"
   ]
  },
  {
   "cell_type": "code",
   "execution_count": 2,
   "id": "469a23bd-5705-4ee7-a311-458b8dac89c8",
   "metadata": {},
   "outputs": [],
   "source": [
    "import torchvision.datasets\n",
    "MNIST_train = torchvision.datasets.MNIST('./', download=True, train=True)\n",
    "MNIST_test = torchvision.datasets.MNIST('./', download=True, train=False)"
   ]
  },
  {
   "cell_type": "code",
   "execution_count": 3,
   "id": "922dfe42-898d-4895-8899-78ab91fca627",
   "metadata": {},
   "outputs": [
    {
     "name": "stderr",
     "output_type": "stream",
     "text": [
      "c:\\users\\cyvar\\pycharmprojects\\tsyvarevsppr\\venv\\lib\\site-packages\\torchvision\\datasets\\mnist.py:62: UserWarning: train_data has been renamed data\n",
      "  warnings.warn(\"train_data has been renamed data\")\n",
      "c:\\users\\cyvar\\pycharmprojects\\tsyvarevsppr\\venv\\lib\\site-packages\\torchvision\\datasets\\mnist.py:52: UserWarning: train_labels has been renamed targets\n",
      "  warnings.warn(\"train_labels has been renamed targets\")\n",
      "c:\\users\\cyvar\\pycharmprojects\\tsyvarevsppr\\venv\\lib\\site-packages\\torchvision\\datasets\\mnist.py:67: UserWarning: test_data has been renamed data\n",
      "  warnings.warn(\"test_data has been renamed data\")\n",
      "c:\\users\\cyvar\\pycharmprojects\\tsyvarevsppr\\venv\\lib\\site-packages\\torchvision\\datasets\\mnist.py:57: UserWarning: test_labels has been renamed targets\n",
      "  warnings.warn(\"test_labels has been renamed targets\")\n"
     ]
    }
   ],
   "source": [
    "X_train = MNIST_train.train_data\n",
    "y_train = MNIST_train.train_labels\n",
    "X_test = MNIST_test.test_data\n",
    "y_test = MNIST_test.test_labels"
   ]
  },
  {
   "cell_type": "code",
   "execution_count": 4,
   "id": "d5711445-4aef-4b9b-8cb1-b606e3331e7f",
   "metadata": {},
   "outputs": [
    {
     "data": {
      "text/plain": [
       "(torch.uint8, torch.int64)"
      ]
     },
     "execution_count": 4,
     "metadata": {},
     "output_type": "execute_result"
    }
   ],
   "source": [
    "X_train.dtype, y_train.dtype"
   ]
  },
  {
   "cell_type": "code",
   "execution_count": 5,
   "id": "0db92ebc-fea3-41f6-9d0c-a455cbb9a8ce",
   "metadata": {},
   "outputs": [],
   "source": [
    "X_train = X_train.float()\n",
    "X_test = X_test.float()"
   ]
  },
  {
   "cell_type": "code",
   "execution_count": 6,
   "id": "5935f5c0-d567-44f4-8c44-d3e301e8441f",
   "metadata": {},
   "outputs": [
    {
     "data": {
      "text/plain": [
       "(torch.Size([60000, 28, 28]), torch.Size([10000, 28, 28]))"
      ]
     },
     "execution_count": 6,
     "metadata": {},
     "output_type": "execute_result"
    }
   ],
   "source": [
    "X_train.shape, X_test.shape"
   ]
  },
  {
   "cell_type": "code",
   "execution_count": 7,
   "id": "42901169-39a9-4a44-9d1e-ab7014d894e1",
   "metadata": {},
   "outputs": [
    {
     "data": {
      "text/plain": [
       "(torch.Size([60000]), torch.Size([10000]))"
      ]
     },
     "execution_count": 7,
     "metadata": {},
     "output_type": "execute_result"
    }
   ],
   "source": [
    "y_train.shape, y_test.shape"
   ]
  },
  {
   "cell_type": "code",
   "execution_count": 8,
   "id": "f017ab38-63c5-478c-a3fd-9cb5c3f8486e",
   "metadata": {},
   "outputs": [
    {
     "data": {
      "image/png": "[encoded data removed]",
      "text/plain": [
       "<Figure size 432x288 with 1 Axes>"
      ]
     },
     "metadata": {
      "needs_background": "light"
     },
     "output_type": "display_data"
    },
    {
     "name": "stdout",
     "output_type": "stream",
     "text": [
      "tensor(5)\n"
     ]
    }
   ],
   "source": [
    "import matplotlib.pyplot as plt\n",
    "plt.imshow(X_train[0, :, :])\n",
    "plt.show()\n",
    "print(y_train[0])"
   ]
  },
  {
   "cell_type": "code",
   "execution_count": 9,
   "id": "b20ad24b-a9d7-46dd-88b9-0124b3e1c49c",
   "metadata": {},
   "outputs": [],
   "source": [
    "X_train = X_train.reshape([-1, 28 * 28])\n",
    "X_test = X_test.reshape([-1, 28 * 28])"
   ]
  },
  {
   "cell_type": "code",
   "execution_count": 10,
   "id": "01b59a3c-633e-428e-afb2-94927856f443",
   "metadata": {},
   "outputs": [],
   "source": [
    "class MNISTNet(torch.nn.Module): \n",
    "    def __init__(self, n_hidden_neurons): \n",
    "        super(MNISTNet, self).__init__() \n",
    "        self.fc1 = torch.nn.Linear(28 * 28, n_hidden_neurons) \n",
    "        self.ac1 = torch.nn.Sigmoid() \n",
    "        self.fc2 = torch.nn.Linear(n_hidden_neurons, 10) \n",
    "    def forward(self, x): \n",
    "        x = self.fc1(x) \n",
    "        x = self.ac1(x) \n",
    "        x = self.fc2(x) \n",
    "        return x \n",
    "mnist_net = MNISTNet(100)"
   ]
  },
  {
   "cell_type": "code",
   "execution_count": 11,
   "id": "a554410a-eee8-4a66-b392-23f13921db52",
   "metadata": {},
   "outputs": [],
   "source": [
    "# torch.cuda.is_available()"
   ]
  },
  {
   "cell_type": "code",
   "execution_count": 12,
   "id": "eb6f8a57-c250-4764-8565-dd7c9d651510",
   "metadata": {},
   "outputs": [],
   "source": [
    "# !nvidia-smi"
   ]
  },
  {
   "cell_type": "code",
   "execution_count": 13,
   "id": "812624f7-94c0-46fe-9c21-4f6c5281309c",
   "metadata": {},
   "outputs": [],
   "source": [
    "# device = torch.device('cuda:0' if torch.cuda.is_available() else 'cpu')\n",
    "# mnist_net = mnist_net.to(device)\n",
    "# list(mnist_net.parameters())"
   ]
  },
  {
   "cell_type": "code",
   "execution_count": 14,
   "id": "93278bb1-9072-4b46-9611-90efebb7cf93",
   "metadata": {},
   "outputs": [],
   "source": [
    "loss = torch.nn.CrossEntropyLoss()\n",
    "optimizer = torch.optim.Adam(mnist_net.parameters(), lr=1.0e-3)"
   ]
  },
  {
   "cell_type": "code",
   "execution_count": 15,
   "id": "d57e448f-4eb8-4f52-8324-bc93e4a8a3e0",
   "metadata": {},
   "outputs": [
    {
     "name": "stdout",
     "output_type": "stream",
     "text": [
      "tensor(0.9126)\n",
      "tensor(0.9190)\n",
      "tensor(0.9243)\n",
      "tensor(0.9219)\n",
      "tensor(0.9230)\n",
      "tensor(0.9293)\n",
      "tensor(0.9313)\n",
      "tensor(0.9339)\n",
      "tensor(0.9306)\n",
      "tensor(0.9284)\n",
      "tensor(0.9331)\n",
      "tensor(0.9366)\n",
      "tensor(0.9337)\n",
      "tensor(0.9319)\n",
      "tensor(0.9334)\n",
      "tensor(0.9320)\n",
      "tensor(0.9400)\n",
      "tensor(0.9383)\n",
      "tensor(0.9373)\n",
      "tensor(0.9364)\n",
      "tensor(0.9403)\n",
      "tensor(0.9455)\n",
      "tensor(0.9405)\n",
      "tensor(0.9426)\n",
      "tensor(0.9434)\n",
      "tensor(0.9484)\n",
      "tensor(0.9451)\n",
      "tensor(0.9441)\n",
      "tensor(0.9421)\n",
      "tensor(0.9445)\n",
      "tensor(0.9477)\n",
      "tensor(0.9490)\n",
      "tensor(0.9507)\n",
      "tensor(0.9448)\n",
      "tensor(0.9480)\n",
      "tensor(0.9524)\n",
      "tensor(0.9476)\n",
      "tensor(0.9485)\n",
      "tensor(0.9484)\n",
      "tensor(0.9498)\n",
      "tensor(0.9483)\n",
      "tensor(0.9514)\n",
      "tensor(0.9485)\n",
      "tensor(0.9516)\n",
      "tensor(0.9424)\n",
      "tensor(0.9524)\n",
      "tensor(0.9543)\n",
      "tensor(0.9509)\n",
      "tensor(0.9488)\n",
      "tensor(0.9483)\n",
      "tensor(0.9503)\n",
      "tensor(0.9500)\n",
      "tensor(0.9500)\n",
      "tensor(0.9507)\n",
      "tensor(0.9478)\n",
      "tensor(0.9504)\n",
      "tensor(0.9512)\n",
      "tensor(0.9495)\n",
      "tensor(0.9523)\n",
      "tensor(0.9572)\n",
      "tensor(0.9481)\n",
      "tensor(0.9517)\n",
      "tensor(0.9496)\n",
      "tensor(0.9496)\n",
      "tensor(0.9503)\n",
      "tensor(0.9517)\n",
      "tensor(0.9490)\n",
      "tensor(0.9525)\n",
      "tensor(0.9541)\n",
      "tensor(0.9557)\n",
      "tensor(0.9543)\n",
      "tensor(0.9554)\n",
      "tensor(0.9523)\n",
      "tensor(0.9569)\n",
      "tensor(0.9550)\n",
      "tensor(0.9546)\n",
      "tensor(0.9547)\n",
      "tensor(0.9566)\n",
      "tensor(0.9548)\n",
      "tensor(0.9507)\n",
      "tensor(0.9548)\n",
      "tensor(0.9543)\n",
      "tensor(0.9571)\n",
      "tensor(0.9574)\n",
      "tensor(0.9561)\n",
      "tensor(0.9548)\n",
      "tensor(0.9558)\n",
      "tensor(0.9556)\n",
      "tensor(0.9576)\n",
      "tensor(0.9591)\n",
      "tensor(0.9569)\n",
      "tensor(0.9597)\n",
      "tensor(0.9581)\n",
      "tensor(0.9578)\n",
      "tensor(0.9578)\n",
      "tensor(0.9589)\n",
      "tensor(0.9562)\n",
      "tensor(0.9583)\n",
      "tensor(0.9541)\n",
      "tensor(0.9602)\n",
      "tensor(0.9583)\n",
      "tensor(0.9589)\n",
      "tensor(0.9567)\n",
      "tensor(0.9530)\n",
      "tensor(0.9559)\n",
      "tensor(0.9579)\n",
      "tensor(0.9593)\n",
      "tensor(0.9573)\n",
      "tensor(0.9543)\n",
      "tensor(0.9578)\n",
      "tensor(0.9565)\n",
      "tensor(0.9609)\n",
      "tensor(0.9596)\n",
      "tensor(0.9582)\n",
      "tensor(0.9607)\n",
      "tensor(0.9568)\n",
      "tensor(0.9558)\n",
      "tensor(0.9610)\n",
      "tensor(0.9596)\n",
      "tensor(0.9624)\n",
      "tensor(0.9594)\n",
      "tensor(0.9605)\n",
      "tensor(0.9574)\n",
      "tensor(0.9618)\n",
      "tensor(0.9611)\n",
      "tensor(0.9625)\n",
      "tensor(0.9557)\n",
      "tensor(0.9598)\n",
      "tensor(0.9612)\n",
      "tensor(0.9579)\n",
      "tensor(0.9616)\n",
      "tensor(0.9588)\n",
      "tensor(0.9610)\n",
      "tensor(0.9625)\n",
      "tensor(0.9626)\n",
      "tensor(0.9613)\n",
      "tensor(0.9620)\n",
      "tensor(0.9636)\n",
      "tensor(0.9605)\n",
      "tensor(0.9618)\n",
      "tensor(0.9601)\n",
      "tensor(0.9618)\n",
      "tensor(0.9598)\n",
      "tensor(0.9627)\n",
      "tensor(0.9632)\n",
      "tensor(0.9586)\n",
      "tensor(0.9592)\n",
      "tensor(0.9547)\n",
      "tensor(0.9602)\n",
      "tensor(0.9598)\n",
      "tensor(0.9611)\n",
      "tensor(0.9619)\n",
      "tensor(0.9621)\n",
      "tensor(0.9661)\n",
      "tensor(0.9610)\n",
      "tensor(0.9599)\n",
      "tensor(0.9620)\n",
      "tensor(0.9627)\n",
      "tensor(0.9605)\n",
      "tensor(0.9621)\n",
      "tensor(0.9621)\n",
      "tensor(0.9616)\n",
      "tensor(0.9630)\n",
      "tensor(0.9626)\n",
      "tensor(0.9619)\n",
      "tensor(0.9615)\n",
      "tensor(0.9618)\n",
      "tensor(0.9617)\n",
      "tensor(0.9615)\n",
      "tensor(0.9605)\n",
      "tensor(0.9599)\n",
      "tensor(0.9614)\n",
      "tensor(0.9622)\n",
      "tensor(0.9613)\n",
      "tensor(0.9606)\n",
      "tensor(0.9608)\n",
      "tensor(0.9596)\n",
      "tensor(0.9579)\n",
      "tensor(0.9585)\n",
      "tensor(0.9595)\n",
      "tensor(0.9594)\n",
      "tensor(0.9570)\n",
      "tensor(0.9633)\n",
      "tensor(0.9613)\n",
      "tensor(0.9623)\n",
      "tensor(0.9594)\n",
      "tensor(0.9587)\n",
      "tensor(0.9623)\n",
      "tensor(0.9589)\n",
      "tensor(0.9608)\n",
      "tensor(0.9599)\n",
      "tensor(0.9588)\n",
      "tensor(0.9626)\n",
      "tensor(0.9622)\n",
      "tensor(0.9618)\n",
      "tensor(0.9645)\n",
      "tensor(0.9620)\n",
      "tensor(0.9627)\n",
      "tensor(0.9629)\n",
      "tensor(0.9624)\n",
      "tensor(0.9618)\n",
      "tensor(0.9616)\n",
      "tensor(0.9643)\n",
      "tensor(0.9632)\n",
      "tensor(0.9635)\n",
      "tensor(0.9609)\n",
      "tensor(0.9630)\n",
      "tensor(0.9601)\n",
      "tensor(0.9592)\n",
      "tensor(0.9623)\n",
      "tensor(0.9653)\n",
      "tensor(0.9633)\n",
      "tensor(0.9621)\n",
      "tensor(0.9630)\n",
      "tensor(0.9622)\n",
      "tensor(0.9624)\n",
      "tensor(0.9622)\n",
      "tensor(0.9606)\n",
      "tensor(0.9591)\n",
      "tensor(0.9611)\n",
      "tensor(0.9631)\n",
      "tensor(0.9634)\n",
      "tensor(0.9599)\n",
      "tensor(0.9614)\n",
      "tensor(0.9627)\n",
      "tensor(0.9610)\n",
      "tensor(0.9623)\n",
      "tensor(0.9635)\n",
      "tensor(0.9653)\n",
      "tensor(0.9613)\n",
      "tensor(0.9619)\n",
      "tensor(0.9650)\n",
      "tensor(0.9651)\n",
      "tensor(0.9654)\n",
      "tensor(0.9646)\n",
      "tensor(0.9648)\n",
      "tensor(0.9642)\n",
      "tensor(0.9644)\n",
      "tensor(0.9657)\n",
      "tensor(0.9643)\n",
      "tensor(0.9624)\n",
      "tensor(0.9615)\n",
      "tensor(0.9637)\n",
      "tensor(0.9661)\n",
      "tensor(0.9634)\n",
      "tensor(0.9649)\n",
      "tensor(0.9638)\n",
      "tensor(0.9635)\n",
      "tensor(0.9614)\n",
      "tensor(0.9597)\n",
      "tensor(0.9615)\n",
      "tensor(0.9637)\n",
      "tensor(0.9635)\n",
      "tensor(0.9618)\n",
      "tensor(0.9604)\n",
      "tensor(0.9608)\n",
      "tensor(0.9624)\n",
      "tensor(0.9613)\n",
      "tensor(0.9606)\n",
      "tensor(0.9642)\n",
      "tensor(0.9644)\n",
      "tensor(0.9641)\n",
      "tensor(0.9648)\n",
      "tensor(0.9659)\n",
      "tensor(0.9638)\n",
      "tensor(0.9647)\n",
      "tensor(0.9621)\n",
      "tensor(0.9628)\n",
      "tensor(0.9650)\n",
      "tensor(0.9634)\n",
      "tensor(0.9647)\n",
      "tensor(0.9641)\n",
      "tensor(0.9631)\n",
      "tensor(0.9617)\n",
      "tensor(0.9651)\n",
      "tensor(0.9654)\n",
      "tensor(0.9640)\n",
      "tensor(0.9646)\n",
      "tensor(0.9626)\n",
      "tensor(0.9647)\n",
      "tensor(0.9650)\n",
      "tensor(0.9645)\n",
      "tensor(0.9652)\n",
      "tensor(0.9678)\n",
      "tensor(0.9648)\n",
      "tensor(0.9642)\n",
      "tensor(0.9671)\n",
      "tensor(0.9647)\n",
      "tensor(0.9623)\n",
      "tensor(0.9644)\n",
      "tensor(0.9658)\n",
      "tensor(0.9655)\n",
      "tensor(0.9661)\n",
      "tensor(0.9663)\n",
      "tensor(0.9660)\n",
      "tensor(0.9657)\n",
      "tensor(0.9658)\n"
     ]
    },
    {
     "ename": "KeyboardInterrupt",
     "evalue": "",
     "output_type": "error",
     "traceback": [
      "\u001b[1;31m---------------------------------------------------------------------------\u001b[0m",
      "\u001b[1;31mKeyboardInterrupt\u001b[0m                         Traceback (most recent call last)",
      "Input \u001b[1;32mIn [15]\u001b[0m, in \u001b[0;36m<module>\u001b[1;34m\u001b[0m\n\u001b[0;32m     21\u001b[0m         loss_value \u001b[38;5;241m=\u001b[39m loss(preds, y_batch)\n\u001b[0;32m     22\u001b[0m         loss_value\u001b[38;5;241m.\u001b[39mbackward()\n\u001b[1;32m---> 24\u001b[0m         \u001b[43moptimizer\u001b[49m\u001b[38;5;241;43m.\u001b[39;49m\u001b[43mstep\u001b[49m\u001b[43m(\u001b[49m\u001b[43m)\u001b[49m\n\u001b[0;32m     26\u001b[0m     test_preds \u001b[38;5;241m=\u001b[39m mnist_net\u001b[38;5;241m.\u001b[39mforward(X_test)\n\u001b[0;32m     27\u001b[0m \u001b[38;5;66;03m#     test_loss_history.append(loss(test_preds, y_test))\u001b[39;00m\n",
      "File \u001b[1;32mc:\\users\\cyvar\\pycharmprojects\\tsyvarevsppr\\venv\\lib\\site-packages\\torch\\optim\\optimizer.py:88\u001b[0m, in \u001b[0;36mOptimizer._hook_for_profile.<locals>.profile_hook_step.<locals>.wrapper\u001b[1;34m(*args, **kwargs)\u001b[0m\n\u001b[0;32m     86\u001b[0m profile_name \u001b[38;5;241m=\u001b[39m \u001b[38;5;124m\"\u001b[39m\u001b[38;5;124mOptimizer.step#\u001b[39m\u001b[38;5;132;01m{}\u001b[39;00m\u001b[38;5;124m.step\u001b[39m\u001b[38;5;124m\"\u001b[39m\u001b[38;5;241m.\u001b[39mformat(obj\u001b[38;5;241m.\u001b[39m\u001b[38;5;18m__class__\u001b[39m\u001b[38;5;241m.\u001b[39m\u001b[38;5;18m__name__\u001b[39m)\n\u001b[0;32m     87\u001b[0m \u001b[38;5;28;01mwith\u001b[39;00m torch\u001b[38;5;241m.\u001b[39mautograd\u001b[38;5;241m.\u001b[39mprofiler\u001b[38;5;241m.\u001b[39mrecord_function(profile_name):\n\u001b[1;32m---> 88\u001b[0m     \u001b[38;5;28;01mreturn\u001b[39;00m \u001b[43mfunc\u001b[49m\u001b[43m(\u001b[49m\u001b[38;5;241;43m*\u001b[39;49m\u001b[43margs\u001b[49m\u001b[43m,\u001b[49m\u001b[43m \u001b[49m\u001b[38;5;241;43m*\u001b[39;49m\u001b[38;5;241;43m*\u001b[39;49m\u001b[43mkwargs\u001b[49m\u001b[43m)\u001b[49m\n",
      "File \u001b[1;32mc:\\users\\cyvar\\pycharmprojects\\tsyvarevsppr\\venv\\lib\\site-packages\\torch\\autograd\\grad_mode.py:28\u001b[0m, in \u001b[0;36m_DecoratorContextManager.__call__.<locals>.decorate_context\u001b[1;34m(*args, **kwargs)\u001b[0m\n\u001b[0;32m     25\u001b[0m \u001b[38;5;129m@functools\u001b[39m\u001b[38;5;241m.\u001b[39mwraps(func)\n\u001b[0;32m     26\u001b[0m \u001b[38;5;28;01mdef\u001b[39;00m \u001b[38;5;21mdecorate_context\u001b[39m(\u001b[38;5;241m*\u001b[39margs, \u001b[38;5;241m*\u001b[39m\u001b[38;5;241m*\u001b[39mkwargs):\n\u001b[0;32m     27\u001b[0m     \u001b[38;5;28;01mwith\u001b[39;00m \u001b[38;5;28mself\u001b[39m\u001b[38;5;241m.\u001b[39m\u001b[38;5;18m__class__\u001b[39m():\n\u001b[1;32m---> 28\u001b[0m         \u001b[38;5;28;01mreturn\u001b[39;00m \u001b[43mfunc\u001b[49m\u001b[43m(\u001b[49m\u001b[38;5;241;43m*\u001b[39;49m\u001b[43margs\u001b[49m\u001b[43m,\u001b[49m\u001b[43m \u001b[49m\u001b[38;5;241;43m*\u001b[39;49m\u001b[38;5;241;43m*\u001b[39;49m\u001b[43mkwargs\u001b[49m\u001b[43m)\u001b[49m\n",
      "File \u001b[1;32mc:\\users\\cyvar\\pycharmprojects\\tsyvarevsppr\\venv\\lib\\site-packages\\torch\\optim\\adam.py:133\u001b[0m, in \u001b[0;36mAdam.step\u001b[1;34m(self, closure)\u001b[0m\n\u001b[0;32m    130\u001b[0m             \u001b[38;5;66;03m# record the step after step update\u001b[39;00m\n\u001b[0;32m    131\u001b[0m             state_steps\u001b[38;5;241m.\u001b[39mappend(state[\u001b[38;5;124m'\u001b[39m\u001b[38;5;124mstep\u001b[39m\u001b[38;5;124m'\u001b[39m])\n\u001b[1;32m--> 133\u001b[0m     \u001b[43mF\u001b[49m\u001b[38;5;241;43m.\u001b[39;49m\u001b[43madam\u001b[49m\u001b[43m(\u001b[49m\u001b[43mparams_with_grad\u001b[49m\u001b[43m,\u001b[49m\n\u001b[0;32m    134\u001b[0m \u001b[43m           \u001b[49m\u001b[43mgrads\u001b[49m\u001b[43m,\u001b[49m\n\u001b[0;32m    135\u001b[0m \u001b[43m           \u001b[49m\u001b[43mexp_avgs\u001b[49m\u001b[43m,\u001b[49m\n\u001b[0;32m    136\u001b[0m \u001b[43m           \u001b[49m\u001b[43mexp_avg_sqs\u001b[49m\u001b[43m,\u001b[49m\n\u001b[0;32m    137\u001b[0m \u001b[43m           \u001b[49m\u001b[43mmax_exp_avg_sqs\u001b[49m\u001b[43m,\u001b[49m\n\u001b[0;32m    138\u001b[0m \u001b[43m           \u001b[49m\u001b[43mstate_steps\u001b[49m\u001b[43m,\u001b[49m\n\u001b[0;32m    139\u001b[0m \u001b[43m           \u001b[49m\u001b[43mamsgrad\u001b[49m\u001b[38;5;241;43m=\u001b[39;49m\u001b[43mgroup\u001b[49m\u001b[43m[\u001b[49m\u001b[38;5;124;43m'\u001b[39;49m\u001b[38;5;124;43mamsgrad\u001b[39;49m\u001b[38;5;124;43m'\u001b[39;49m\u001b[43m]\u001b[49m\u001b[43m,\u001b[49m\n\u001b[0;32m    140\u001b[0m \u001b[43m           \u001b[49m\u001b[43mbeta1\u001b[49m\u001b[38;5;241;43m=\u001b[39;49m\u001b[43mbeta1\u001b[49m\u001b[43m,\u001b[49m\n\u001b[0;32m    141\u001b[0m \u001b[43m           \u001b[49m\u001b[43mbeta2\u001b[49m\u001b[38;5;241;43m=\u001b[39;49m\u001b[43mbeta2\u001b[49m\u001b[43m,\u001b[49m\n\u001b[0;32m    142\u001b[0m \u001b[43m           \u001b[49m\u001b[43mlr\u001b[49m\u001b[38;5;241;43m=\u001b[39;49m\u001b[43mgroup\u001b[49m\u001b[43m[\u001b[49m\u001b[38;5;124;43m'\u001b[39;49m\u001b[38;5;124;43mlr\u001b[39;49m\u001b[38;5;124;43m'\u001b[39;49m\u001b[43m]\u001b[49m\u001b[43m,\u001b[49m\n\u001b[0;32m    143\u001b[0m \u001b[43m           \u001b[49m\u001b[43mweight_decay\u001b[49m\u001b[38;5;241;43m=\u001b[39;49m\u001b[43mgroup\u001b[49m\u001b[43m[\u001b[49m\u001b[38;5;124;43m'\u001b[39;49m\u001b[38;5;124;43mweight_decay\u001b[39;49m\u001b[38;5;124;43m'\u001b[39;49m\u001b[43m]\u001b[49m\u001b[43m,\u001b[49m\n\u001b[0;32m    144\u001b[0m \u001b[43m           \u001b[49m\u001b[43meps\u001b[49m\u001b[38;5;241;43m=\u001b[39;49m\u001b[43mgroup\u001b[49m\u001b[43m[\u001b[49m\u001b[38;5;124;43m'\u001b[39;49m\u001b[38;5;124;43meps\u001b[39;49m\u001b[38;5;124;43m'\u001b[39;49m\u001b[43m]\u001b[49m\u001b[43m)\u001b[49m\n\u001b[0;32m    145\u001b[0m \u001b[38;5;28;01mreturn\u001b[39;00m loss\n",
      "File \u001b[1;32mc:\\users\\cyvar\\pycharmprojects\\tsyvarevsppr\\venv\\lib\\site-packages\\torch\\optim\\_functional.py:94\u001b[0m, in \u001b[0;36madam\u001b[1;34m(params, grads, exp_avgs, exp_avg_sqs, max_exp_avg_sqs, state_steps, amsgrad, beta1, beta2, lr, weight_decay, eps)\u001b[0m\n\u001b[0;32m     92\u001b[0m     denom \u001b[38;5;241m=\u001b[39m (max_exp_avg_sqs[i]\u001b[38;5;241m.\u001b[39msqrt() \u001b[38;5;241m/\u001b[39m math\u001b[38;5;241m.\u001b[39msqrt(bias_correction2))\u001b[38;5;241m.\u001b[39madd_(eps)\n\u001b[0;32m     93\u001b[0m \u001b[38;5;28;01melse\u001b[39;00m:\n\u001b[1;32m---> 94\u001b[0m     denom \u001b[38;5;241m=\u001b[39m (\u001b[43mexp_avg_sq\u001b[49m\u001b[38;5;241;43m.\u001b[39;49m\u001b[43msqrt\u001b[49m\u001b[43m(\u001b[49m\u001b[43m)\u001b[49m \u001b[38;5;241m/\u001b[39m math\u001b[38;5;241m.\u001b[39msqrt(bias_correction2))\u001b[38;5;241m.\u001b[39madd_(eps)\n\u001b[0;32m     96\u001b[0m step_size \u001b[38;5;241m=\u001b[39m lr \u001b[38;5;241m/\u001b[39m bias_correction1\n\u001b[0;32m     98\u001b[0m param\u001b[38;5;241m.\u001b[39maddcdiv_(exp_avg, denom, value\u001b[38;5;241m=\u001b[39m\u001b[38;5;241m-\u001b[39mstep_size)\n",
      "\u001b[1;31mKeyboardInterrupt\u001b[0m: "
     ]
    }
   ],
   "source": [
    "batch_size = 100\n",
    "# test_accuracy_history = []\n",
    "# test_loss_history = []\n",
    "\n",
    "# X_test = X_test.to(device)\n",
    "# y_test = y_test.to(device)\n",
    "\n",
    "for epoch in range(10000):\n",
    "    order = np.random.permutation(len(X_train))\n",
    "    \n",
    "    for start_index in range(0, len(X_train), batch_size):\n",
    "        optimizer.zero_grad()\n",
    "        \n",
    "        batch_indexes = order[start_index:start_index+batch_size]\n",
    "        \n",
    "        X_batch = X_train[batch_indexes] #.to(device)\n",
    "        y_batch = y_train[batch_indexes] #.to(device)\n",
    "        \n",
    "        preds = mnist_net.forward(X_batch) \n",
    "        \n",
    "        loss_value = loss(preds, y_batch)\n",
    "        loss_value.backward()\n",
    "        \n",
    "        optimizer.step()\n",
    "\n",
    "    test_preds = mnist_net.forward(X_test)\n",
    "#     test_loss_history.append(loss(test_preds, y_test))\n",
    "    \n",
    "    accuracy = (test_preds.argmax(dim=1) == y_test).float().mean()\n",
    "#     test_accuracy_history.append(accuracy)\n",
    "    print(accuracy)"
   ]
  }
 ],
 "metadata": {
  "kernelspec": {
   "display_name": "Python 3 (ipykernel)",
   "language": "python",
   "name": "python3"
  },
  "language_info": {
   "codemirror_mode": {
    "name": "ipython",
    "version": 3
   },
   "file_extension": ".py",
   "mimetype": "text/x-python",
   "name": "python",
   "nbconvert_exporter": "python",
   "pygments_lexer": "ipython3",
   "version": "3.8.6"
  }
 },
 "nbformat": 4,
 "nbformat_minor": 5
}
