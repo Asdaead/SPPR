{
 "cells": [
  {
   "cell_type": "markdown",
   "id": "fb84d52f-17dc-4258-b215-ca976d02e49b",
   "metadata": {},
   "source": [
    "Цыварев Илья, вариант 1\n",
    "Число нейронов в скрытом слое - 20\n",
    "Шаг градиентного спуска - 0.001"
   ]
  },
  {
   "cell_type": "markdown",
   "id": "6f04a856-62b0-48ca-a2a6-c1c8948a1e58",
   "metadata": {},
   "source": [
    "1 задание"
   ]
  },
  {
   "cell_type": "markdown",
   "id": "685e6d5a-b68e-429e-a393-f7c726177ff0",
   "metadata": {},
   "source": [
    "Кросс-энтропия (Перекрестная энтропия) – это Функция потерь (Loss Function), которую можно использовать для количественной оценки разницы между двумя Распределениями вероятностей (Probability Distribution). Кросс-энтропия измеряет расхождение между двумя вероятностными распределениями. Если кросс-энтропия велика, это означает, что разница между двумя распределениями велика, а если кросс-энтропия мала, то распределения похожи друг на друга.\n",
    "\n",
    "Регресс Softmax - это форма логистической регрессии, которая нормализует входное значение в вектор значений, который следует распределению вероятности, общая сумма которого равна 1. Выходные значения находятся в диапазоне [0,1]"
   ]
  },
  {
   "cell_type": "markdown",
   "id": "ed7c4f80-a78c-46f7-9e72-fbd18f4d094d",
   "metadata": {},
   "source": [
    "2 задание"
   ]
  },
  {
   "cell_type": "code",
   "execution_count": 1,
   "id": "a142aa9d-c175-45b5-accf-596d41c1c176",
   "metadata": {},
   "outputs": [],
   "source": [
    "import torch\n",
    "import random\n",
    "import numpy as np"
   ]
  },
  {
   "cell_type": "code",
   "execution_count": 2,
   "id": "017115d9-dde4-43f3-81d8-f661b03e7ce7",
   "metadata": {},
   "outputs": [],
   "source": [
    "random.seed(0)\n",
    "np.random.seed(0)\n",
    "torch.manual_seed(0)\n",
    "torch.cuda.manual_seed(0)\n",
    "torch.backends.cudnn.deterministic = True"
   ]
  },
  {
   "cell_type": "code",
   "execution_count": 3,
   "id": "b0bd84b2-8b82-4ccf-8452-713bd33364fd",
   "metadata": {},
   "outputs": [
    {
     "data": {
      "text/plain": [
       "(178, 13)"
      ]
     },
     "execution_count": 3,
     "metadata": {},
     "output_type": "execute_result"
    }
   ],
   "source": [
    "import sklearn.datasets\n",
    "wine = sklearn.datasets.load_wine()\n",
    "wine.data.shape"
   ]
  },
  {
   "cell_type": "code",
   "execution_count": 4,
   "id": "9f7ca858-1611-4609-9221-fc15bf5ba07d",
   "metadata": {
    "tags": []
   },
   "outputs": [],
   "source": [
    "from sklearn.model_selection import train_test_split \n",
    "X_train, X_test, y_train, y_test = train_test_split(\n",
    "          wine.data[:, :2],\n",
    "    wine.target, \n",
    "    test_size=0.3, \n",
    "    shuffle=True) \n",
    "X_train = torch.FloatTensor(X_train) \n",
    "X_test = torch.FloatTensor(X_test) \n",
    "y_train = torch.LongTensor(y_train) \n",
    "y_test = torch.LongTensor(y_test)"
   ]
  },
  {
   "cell_type": "code",
   "execution_count": 5,
   "id": "afe26f5d-daf3-45c7-8d2d-522982857c29",
   "metadata": {},
   "outputs": [],
   "source": [
    "class WineNet(torch.nn.Module):\n",
    "    def __init__(self,  n_hidden_neurons, activation = 'sigmoid',n_layers = 3):\n",
    "        super(WineNet, self).__init__()\n",
    "        if activation == 'sigmoid':\n",
    "            act = torch.nn.Sigmoid()\n",
    "        elif activation == 'relu':\n",
    "            act = torch.nn.ReLU()\n",
    "        else:\n",
    "            print('unknown activation')\n",
    "        \n",
    "        self.fc1 = torch.nn.Linear(2, n_hidden_neurons)\n",
    "        self.activ1 = act\n",
    "        \n",
    "        self.hidden_layers = torch.nn.Sequential()\n",
    "        for i in range(n_layers):\n",
    "            self.hidden_layers.add_module(f'hidden_{i}',torch.nn.Linear(n_hidden_neurons, n_hidden_neurons))\n",
    "            self.hidden_layers.add_module(f'act_{i}',act)\n",
    "\n",
    "        self.fc3 = torch.nn.Linear(n_hidden_neurons, 3)\n",
    "        self.sm = torch.nn.Softmax(dim=1)\n",
    "\n",
    "    def forward(self, x):\n",
    "        x = self.fc1(x)\n",
    "        x = self.activ1(x)\n",
    "        x = self.hidden_layers(x)\n",
    "        x = self.fc3(x)\n",
    "        return x\n",
    "    def inference(self, x):\n",
    "        x = self.forward(x)\n",
    "        x = self.sm(x)\n",
    "        return x"
   ]
  },
  {
   "cell_type": "markdown",
   "id": "45ebd159-cb25-4d8c-9d04-fdc3c444562f",
   "metadata": {},
   "source": [
    "Создадим нейронную сеть с 2 нейронами на скрытом слое"
   ]
  },
  {
   "cell_type": "code",
   "execution_count": 6,
   "id": "76cbe959-6be9-4cc1-bbcb-4074efd81a57",
   "metadata": {},
   "outputs": [],
   "source": [
    "wine_net = WineNet(2)"
   ]
  },
  {
   "cell_type": "code",
   "execution_count": 7,
   "id": "951053d4-c2dc-4568-8cb5-f25567440c94",
   "metadata": {},
   "outputs": [],
   "source": [
    "loss = torch.nn.CrossEntropyLoss()\n",
    "\n",
    "optimizer = torch.optim.Adam(wine_net.parameters(), lr=0.001)"
   ]
  },
  {
   "cell_type": "code",
   "execution_count": 8,
   "id": "ccba69b2-5cc9-4379-9cd3-800ef3453f14",
   "metadata": {},
   "outputs": [
    {
     "name": "stdout",
     "output_type": "stream",
     "text": [
      "tensor(0.4074)\n",
      "tensor(0.4074)\n",
      "tensor(0.4074)\n",
      "tensor(0.4074)\n",
      "tensor(0.5000)\n",
      "tensor(0.5370)\n",
      "tensor(0.5370)\n",
      "tensor(0.5370)\n",
      "tensor(0.5370)\n",
      "tensor(0.5370)\n",
      "tensor(0.5370)\n",
      "tensor(0.5370)\n",
      "tensor(0.5370)\n",
      "tensor(0.5370)\n",
      "tensor(0.5370)\n",
      "tensor(0.5370)\n",
      "tensor(0.5370)\n",
      "tensor(0.5370)\n",
      "tensor(0.5370)\n",
      "tensor(0.5370)\n",
      "tensor(0.5370)\n",
      "tensor(0.5370)\n",
      "tensor(0.5370)\n",
      "tensor(0.5370)\n",
      "tensor(0.5370)\n",
      "tensor(0.5370)\n",
      "tensor(0.5370)\n",
      "tensor(0.5370)\n",
      "tensor(0.5370)\n",
      "tensor(0.5370)\n",
      "tensor(0.5370)\n",
      "tensor(0.5370)\n",
      "tensor(0.5370)\n",
      "tensor(0.5370)\n",
      "tensor(0.5370)\n",
      "tensor(0.5370)\n",
      "tensor(0.5370)\n",
      "tensor(0.5370)\n",
      "tensor(0.5370)\n",
      "tensor(0.5370)\n",
      "tensor(0.5370)\n",
      "tensor(0.5370)\n",
      "tensor(0.5370)\n",
      "tensor(0.5370)\n",
      "tensor(0.5370)\n",
      "tensor(0.5370)\n",
      "tensor(0.5370)\n",
      "tensor(0.5370)\n",
      "tensor(0.5370)\n",
      "tensor(0.5370)\n"
     ]
    }
   ],
   "source": [
    "batch_size = 10\n",
    "\n",
    "for epoch in range(5000):\n",
    "    order = np.random.permutation(len(X_train))\n",
    "    for start_index in range(0, len(X_train), batch_size):\n",
    "        optimizer.zero_grad()\n",
    "        \n",
    "        batch_indexes = order[start_index:start_index+batch_size]\n",
    "        \n",
    "        x_batch = X_train[batch_indexes]\n",
    "        y_batch = y_train[batch_indexes]\n",
    "        \n",
    "        preds = wine_net.forward(x_batch) \n",
    "        \n",
    "        loss_value = loss(preds, y_batch)\n",
    "        loss_value.backward()\n",
    "        \n",
    "        optimizer.step()\n",
    "        \n",
    "    if epoch % 100 == 0:\n",
    "        test_preds = wine_net.forward(X_test)\n",
    "        test_preds = test_preds.argmax(dim=1)\n",
    "        print((test_preds == y_test).float().mean())"
   ]
  },
  {
   "cell_type": "code",
   "execution_count": 9,
   "id": "2af0b0a8-daf1-4b24-a48f-0b9bd92d1db8",
   "metadata": {},
   "outputs": [
    {
     "name": "stderr",
     "output_type": "stream",
     "text": [
      "c:\\users\\cyvar\\pycharmprojects\\tsyvarevsppr\\venv\\lib\\site-packages\\torch\\functional.py:445: UserWarning: torch.meshgrid: in an upcoming release, it will be required to pass the indexing argument. (Triggered internally at  ..\\aten\\src\\ATen\\native\\TensorShape.cpp:2157.)\n",
      "  return _VF.meshgrid(tensors, **kwargs)  # type: ignore[attr-defined]\n",
      "C:\\Users\\cyvar\\AppData\\Local\\Temp\\ipykernel_6752\\3700399350.py:25: UserWarning: Creating a tensor from a list of numpy.ndarrays is extremely slow. Please consider converting the list to a single numpy.ndarray with numpy.array() before converting to a tensor. (Triggered internally at  ..\\torch\\csrc\\utils\\tensor_new.cpp:201.)\n",
      "  plt.scatter(X_train[indexes, 0],\n"
     ]
    },
    {
     "data": {
      "image/png": "[encoded data removed]",
      "text/plain": [
       "<Figure size 720x576 with 1 Axes>"
      ]
     },
     "metadata": {
      "needs_background": "light"
     },
     "output_type": "display_data"
    }
   ],
   "source": [
    "import matplotlib.pyplot as plt\n",
    "%matplotlib inline\n",
    "\n",
    "plt.rcParams['figure.figsize'] = (10, 8)\n",
    "\n",
    "n_classes = 3\n",
    "plot_colors = ['g', 'orange', 'black']\n",
    "plot_step = 0.02\n",
    "\n",
    "x_min, x_max = X_train[:, 0].min() - 1, X_train[:, 0].max() + 1\n",
    "y_min, y_max = X_train[:, 1].min() - 1, X_train[:, 1].max() + 1\n",
    "\n",
    "xx, yy =  torch.meshgrid(torch.arange(x_min, x_max, plot_step),\n",
    "                         torch.arange(y_min, y_max, plot_step))\n",
    "\n",
    "preds = wine_net.inference(\n",
    "    torch.cat([xx.reshape(-1, 1), yy.reshape(-1, 1)], dim=1))\n",
    "\n",
    "preds_class = preds.data.numpy().argmax(axis=1)\n",
    "preds_class = preds_class.reshape(xx.shape)\n",
    "plt.contourf(xx, yy, preds_class, cmap='Accent')\n",
    "\n",
    "for i, color in zip(range(n_classes), plot_colors):\n",
    "    indexes = np.where(y_train == i)\n",
    "    plt.scatter(X_train[indexes, 0], \n",
    "                X_train[indexes, 1], \n",
    "                c=color, \n",
    "                label=wine.target_names[i],\n",
    "                cmap='Accent')\n",
    "    plt.xlabel(wine.feature_names[0])\n",
    "    plt.ylabel(wine.feature_names[1])\n",
    "    plt.legend()\n"
   ]
  },
  {
   "cell_type": "markdown",
   "id": "e0b47833-9635-4d85-b87c-870b337327fc",
   "metadata": {},
   "source": [
    "Как видно, обучение нейронной сети с 2 нейронами на скрытом слое проходит неудачно. Если повысить количество нейронов до 3, то обучение будет работать успешно. Из этого можно сделать вывод, что минимальное значение n_hidden_neurons, при котором сеть дает неудовлетворительные результаты равно 2."
   ]
  },
  {
   "cell_type": "markdown",
   "id": "882b5280-1833-4082-b3e5-de87b6507abe",
   "metadata": {},
   "source": [
    "3 задание"
   ]
  },
  {
   "cell_type": "markdown",
   "id": "b88ceb7e-f843-40fc-bfae-99fc6dd4e596",
   "metadata": {},
   "source": [
    "На обучение нейросети прямо влияет количество нейронов в скрытом слое. При увеличении их количества прямо пропорционально растет и точность при обучении сети (следует из опыта, описанного выше)."
   ]
  },
  {
   "cell_type": "code",
   "execution_count": 10,
   "id": "76f05969-43f5-4bbf-bb6f-14556fc1e670",
   "metadata": {},
   "outputs": [
    {
     "name": "stdout",
     "output_type": "stream",
     "text": [
      "tensor(0.4074)\n",
      "tensor(0.6667)\n",
      "tensor(0.8333)\n",
      "tensor(0.8519)\n",
      "tensor(0.8704)\n"
     ]
    }
   ],
   "source": [
    "wine_net2 = WineNet(20, \"sigmoid\", 3)\n",
    "optimizer2 = torch.optim.Adam(wine_net2.parameters(), lr=0.001)\n",
    "for epoch in range(5000):\n",
    "    order = np.random.permutation(len(X_train))\n",
    "    for start_index in range(0, len(X_train), batch_size):\n",
    "        optimizer2.zero_grad()\n",
    "        \n",
    "        batch_indexes = order[start_index:start_index+batch_size]\n",
    "        \n",
    "        x_batch = X_train[batch_indexes]\n",
    "        y_batch = y_train[batch_indexes]\n",
    "        \n",
    "        preds = wine_net2.forward(x_batch) \n",
    "        \n",
    "        loss_value = loss(preds, y_batch)\n",
    "        loss_value.backward()\n",
    "        \n",
    "        optimizer2.step()\n",
    "        \n",
    "    if epoch % 1000 == 0:\n",
    "        test_preds = wine_net2.forward(X_test)\n",
    "        test_preds = test_preds.argmax(dim=1)\n",
    "        print((test_preds == y_test).float().mean())"
   ]
  },
  {
   "cell_type": "code",
   "execution_count": 11,
   "id": "13d8a116-2d38-4117-89b9-93cd1268c281",
   "metadata": {},
   "outputs": [
    {
     "name": "stdout",
     "output_type": "stream",
     "text": [
      "tensor(0.4074)\n",
      "tensor(0.6481)\n",
      "tensor(0.8519)\n",
      "tensor(0.8148)\n",
      "tensor(0.8333)\n"
     ]
    }
   ],
   "source": [
    "wine_net3 = WineNet(20, \"sigmoid\", 4)\n",
    "optimizer3 = torch.optim.Adam(wine_net3.parameters(), lr=0.001)\n",
    "for epoch in range(5000):\n",
    "    order = np.random.permutation(len(X_train))\n",
    "    for start_index in range(0, len(X_train), batch_size):\n",
    "        optimizer3.zero_grad()\n",
    "        \n",
    "        batch_indexes = order[start_index:start_index+batch_size]\n",
    "        \n",
    "        x_batch = X_train[batch_indexes]\n",
    "        y_batch = y_train[batch_indexes]\n",
    "        \n",
    "        preds = wine_net3.forward(x_batch) \n",
    "        \n",
    "        loss_value = loss(preds, y_batch)\n",
    "        loss_value.backward()\n",
    "        \n",
    "        optimizer3.step()\n",
    "        \n",
    "    if epoch % 1000 == 0:\n",
    "        test_preds = wine_net3.forward(X_test)\n",
    "        test_preds = test_preds.argmax(dim=1)\n",
    "        print((test_preds == y_test).float().mean())"
   ]
  },
  {
   "cell_type": "markdown",
   "id": "b1c386db-4dca-4cd1-9e10-3edef586ac77",
   "metadata": {},
   "source": [
    "Увеличение количества слоев для нейросети не влияет на качество её обучения"
   ]
  },
  {
   "cell_type": "code",
   "execution_count": 12,
   "id": "ce6abdd9-11ab-4fe3-af0e-1294d62b4fe6",
   "metadata": {},
   "outputs": [
    {
     "name": "stdout",
     "output_type": "stream",
     "text": [
      "tensor(0.4074)\n",
      "tensor(0.7037)\n",
      "tensor(0.8519)\n",
      "tensor(0.8519)\n",
      "tensor(0.8333)\n"
     ]
    }
   ],
   "source": [
    "wine_net4 = WineNet(20, \"sigmoid\", 3)\n",
    "optimizer4 = torch.optim.Adam(wine_net4.parameters(), lr=0.001)\n",
    "for epoch in range(5000):\n",
    "    order = np.random.permutation(len(X_train))\n",
    "    for start_index in range(0, len(X_train), batch_size):\n",
    "        optimizer4.zero_grad()\n",
    "        \n",
    "        batch_indexes = order[start_index:start_index+batch_size]\n",
    "        \n",
    "        x_batch = X_train[batch_indexes]\n",
    "        y_batch = y_train[batch_indexes]\n",
    "        \n",
    "        preds = wine_net4.forward(x_batch) \n",
    "        \n",
    "        loss_value = loss(preds, y_batch)\n",
    "        loss_value.backward()\n",
    "        \n",
    "        optimizer4.step()\n",
    "        \n",
    "    if epoch % 1000 == 0:\n",
    "        test_preds = wine_net4.forward(X_test)\n",
    "        test_preds = test_preds.argmax(dim=1)\n",
    "        print((test_preds == y_test).float().mean())"
   ]
  },
  {
   "cell_type": "code",
   "execution_count": 13,
   "id": "ec065941-34f8-4e7a-96f0-f21dc8b2e04d",
   "metadata": {},
   "outputs": [
    {
     "name": "stdout",
     "output_type": "stream",
     "text": [
      "tensor(0.3519)\n",
      "tensor(0.8519)\n",
      "tensor(0.8519)\n",
      "tensor(0.8519)\n",
      "tensor(0.8519)\n"
     ]
    }
   ],
   "source": [
    "wine_net5 = WineNet(20, \"relu\", 3)\n",
    "optimizer5 = torch.optim.Adam(wine_net5.parameters(), lr=0.001)\n",
    "for epoch in range(5000):\n",
    "    order = np.random.permutation(len(X_train))\n",
    "    for start_index in range(0, len(X_train), batch_size):\n",
    "        optimizer5.zero_grad()\n",
    "        \n",
    "        batch_indexes = order[start_index:start_index+batch_size]\n",
    "        \n",
    "        x_batch = X_train[batch_indexes]\n",
    "        y_batch = y_train[batch_indexes]\n",
    "        \n",
    "        preds = wine_net5.forward(x_batch) \n",
    "        \n",
    "        loss_value = loss(preds, y_batch)\n",
    "        loss_value.backward()\n",
    "        \n",
    "        optimizer5.step()\n",
    "        \n",
    "    if epoch % 1000 == 0:\n",
    "        test_preds = wine_net5.forward(X_test)\n",
    "        test_preds = test_preds.argmax(dim=1)\n",
    "        print((test_preds == y_test).float().mean())"
   ]
  },
  {
   "cell_type": "markdown",
   "id": "f6ac7b2e-5abc-4c04-a825-d97129ce1486",
   "metadata": {},
   "source": [
    "Способ активации для нейронной сети не повлияла на качество её обучения"
   ]
  },
  {
   "cell_type": "markdown",
   "id": "d2f58428-a530-4057-a285-2a8adbc57818",
   "metadata": {},
   "source": [
    "4 задание"
   ]
  },
  {
   "cell_type": "markdown",
   "id": "4157d5e7-2f09-4054-b14e-97d941d029f5",
   "metadata": {},
   "source": [
    "Изучим влияние параметра test_size на точность предсказаний"
   ]
  },
  {
   "cell_type": "code",
   "execution_count": 19,
   "id": "b3cdbfac-4606-4ecc-8336-3b29cd655be4",
   "metadata": {},
   "outputs": [
    {
     "name": "stdout",
     "output_type": "stream",
     "text": [
      "test_size = 0.1\n",
      "tensor(0.3333)\n",
      "tensor(0.7778)\n",
      "tensor(0.6667)\n",
      "tensor(0.7778)\n",
      "tensor(0.7778)\n",
      "test_size = 0.2\n",
      "tensor(0.2778)\n",
      "tensor(0.5833)\n",
      "tensor(0.7222)\n",
      "tensor(0.7500)\n",
      "tensor(0.7500)\n",
      "test_size = 0.30000000000000004\n",
      "tensor(0.4074)\n",
      "tensor(0.8519)\n",
      "tensor(0.8333)\n",
      "tensor(0.8148)\n",
      "tensor(0.7778)\n",
      "test_size = 0.4\n",
      "tensor(0.3750)\n",
      "tensor(0.6111)\n",
      "tensor(0.6389)\n",
      "tensor(0.7917)\n",
      "tensor(0.7778)\n",
      "test_size = 0.5\n",
      "tensor(0.4494)\n",
      "tensor(0.4944)\n",
      "tensor(0.7416)\n",
      "tensor(0.7978)\n",
      "tensor(0.7865)\n",
      "test_size = 0.6\n",
      "tensor(0.3832)\n",
      "tensor(0.6075)\n",
      "tensor(0.6916)\n",
      "tensor(0.7290)\n",
      "tensor(0.7290)\n",
      "test_size = 0.7000000000000001\n",
      "tensor(0.3280)\n",
      "tensor(0.6240)\n",
      "tensor(0.6960)\n",
      "tensor(0.7760)\n",
      "tensor(0.7840)\n",
      "test_size = 0.8\n",
      "tensor(0.2937)\n",
      "tensor(0.6224)\n",
      "tensor(0.7622)\n",
      "tensor(0.7552)\n",
      "tensor(0.7552)\n"
     ]
    }
   ],
   "source": [
    "for i in np.linspace(0.1,0.8,8):\n",
    "    print(\"test_size = \" + str(i))\n",
    "    X_train, X_test, y_train, y_test = train_test_split(\n",
    "          wine.data[:, :2],\n",
    "    wine.target, \n",
    "    test_size=i, \n",
    "    shuffle=True) \n",
    "    X_train = torch.FloatTensor(X_train) \n",
    "    X_test = torch.FloatTensor(X_test) \n",
    "    y_train = torch.LongTensor(y_train) \n",
    "    y_test = torch.LongTensor(y_test)\n",
    "\n",
    "    wine_net6 = WineNet(20, \"sigmoid\", 3)\n",
    "    optimizer6 = torch.optim.Adam(wine_net6.parameters(), lr=0.001)\n",
    "    for epoch in range(5000):\n",
    "        order = np.random.permutation(len(X_train))\n",
    "        for start_index in range(0, len(X_train), batch_size):\n",
    "            optimizer6.zero_grad()\n",
    "\n",
    "            batch_indexes = order[start_index:start_index+batch_size]\n",
    "\n",
    "            x_batch = X_train[batch_indexes]\n",
    "            y_batch = y_train[batch_indexes]\n",
    "\n",
    "            preds = wine_net6.forward(x_batch) \n",
    "\n",
    "            loss_value = loss(preds, y_batch)\n",
    "            loss_value.backward()\n",
    "\n",
    "            optimizer6.step()\n",
    "\n",
    "        if epoch % 1000 == 0:\n",
    "            test_preds = wine_net6.forward(X_test)\n",
    "            test_preds = test_preds.argmax(dim=1)\n",
    "            print((test_preds == y_test).float().mean())"
   ]
  },
  {
   "cell_type": "code",
   "execution_count": 25,
   "id": "e4a56719-0fba-4294-a75b-2b3fa7901288",
   "metadata": {},
   "outputs": [
    {
     "name": "stdout",
     "output_type": "stream",
     "text": [
      "base_rate :0.398876404494382\n"
     ]
    }
   ],
   "source": [
    "base_rate = len(wine.target[wine.target == 1]) / len(wine.target)\n",
    "print('base_rate :' + str(base_rate))"
   ]
  },
  {
   "cell_type": "markdown",
   "id": "943874ad-cb8a-422e-8ea6-0196e87760bf",
   "metadata": {},
   "source": [
    "при test_size, примерно равном base_rate (0.4), точность предсказаний составила 0.7865; при test_size = 0.6 и 0.8 точность предсказаний получилась ниже"
   ]
  },
  {
   "cell_type": "markdown",
   "id": "b3620f06-f7c5-437f-a5a0-14faf743ef04",
   "metadata": {},
   "source": [
    "5 задание"
   ]
  },
  {
   "cell_type": "markdown",
   "id": "5b019a04-2387-4918-86ab-86d606f0a8d8",
   "metadata": {},
   "source": [
    "Изучим поведение нейросети при изменении значения переменной batch_size"
   ]
  },
  {
   "cell_type": "code",
   "execution_count": 30,
   "id": "5ce79ff6-8c0a-4eaf-a877-2eee0e80098d",
   "metadata": {},
   "outputs": [
    {
     "name": "stdout",
     "output_type": "stream",
     "text": [
      "batch size = 10\n",
      "tensor(0.3217)\n",
      "tensor(0.6853)\n",
      "tensor(0.7273)\n",
      "tensor(0.7413)\n",
      "tensor(0.7552)\n",
      "working time = 19.819682359695435\n",
      "batch size = 50\n",
      "tensor(0.3846)\n",
      "tensor(0.4056)\n",
      "tensor(0.6294)\n",
      "tensor(0.5874)\n",
      "tensor(0.6434)\n",
      "working time = 4.763587951660156\n",
      "batch size = 100\n",
      "tensor(0.2937)\n",
      "tensor(0.6853)\n",
      "tensor(0.7063)\n",
      "tensor(0.6783)\n",
      "tensor(0.6993)\n",
      "working time = 4.607348442077637\n",
      "batch size = 1000\n",
      "tensor(0.3217)\n",
      "tensor(0.4126)\n",
      "tensor(0.6713)\n",
      "tensor(0.6853)\n",
      "tensor(0.6993)\n",
      "working time = 4.545868635177612\n"
     ]
    }
   ],
   "source": [
    "from time import time\n",
    "bss = [10,50,100,1000]\n",
    "times = []\n",
    "for bs in bss:\n",
    "    print('batch size = ' + str(bs))\n",
    "    wine_net = WineNet(20)\n",
    "    optimizer = torch.optim.Adam(wine_net.parameters(), lr=0.001)\n",
    "    start_time = time()\n",
    "    for epoch in range(5000):\n",
    "        order = np.random.permutation(len(X_train))\n",
    "        for start_index in range(0, len(X_train), bs):\n",
    "            optimizer.zero_grad()\n",
    "        \n",
    "            batch_indexes = order[start_index:start_index+bs]\n",
    "        \n",
    "            x_batch = X_train[batch_indexes]\n",
    "            y_batch = y_train[batch_indexes]\n",
    "        \n",
    "            preds = wine_net.forward(x_batch) \n",
    "        \n",
    "            loss_value = loss(preds, y_batch)\n",
    "            loss_value.backward()\n",
    "        \n",
    "            optimizer.step()\n",
    "        \n",
    "        if epoch % 1000 == 0:\n",
    "            test_preds = wine_net.forward(X_test)\n",
    "            test_preds = test_preds.argmax(dim=1)\n",
    "            print((test_preds == y_test).float().mean())\n",
    "    finish_time = time()\n",
    "    print('working time = '+ str(finish_time - start_time))"
   ]
  },
  {
   "cell_type": "markdown",
   "id": "ec49432c-c545-430a-b6a4-ca14adb91d56",
   "metadata": {},
   "source": [
    "При увеличении значения batch_size обучение происходит быстрее"
   ]
  },
  {
   "cell_type": "code",
   "execution_count": null,
   "id": "44ad8615-03bb-42ad-9a1d-635045cfd519",
   "metadata": {},
   "outputs": [],
   "source": []
  }
 ],
 "metadata": {
  "kernelspec": {
   "display_name": "Python 3 (ipykernel)",
   "language": "python",
   "name": "python3"
  },
  "language_info": {
   "codemirror_mode": {
    "name": "ipython",
    "version": 3
   },
   "file_extension": ".py",
   "mimetype": "text/x-python",
   "name": "python",
   "nbconvert_exporter": "python",
   "pygments_lexer": "ipython3",
   "version": "3.8.6"
  }
 },
 "nbformat": 4,
 "nbformat_minor": 5
}
