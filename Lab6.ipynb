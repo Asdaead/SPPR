{
 "cells": [
  {
   "cell_type": "code",
   "execution_count": null,
   "id": "6b95edd8-f137-4e87-be09-15db88551bc0",
   "metadata": {},
   "outputs": [],
   "source": [
    "import torch\n",
    "import random\n",
    "import numpy as np\n",
    "\n",
    "random.seed(0)\n",
    "np.random.seed(0)\n",
    "torch.manual_seed(0)\n",
    "torch.cuda.manual_seed(0)\n",
    "torch.backends.cudnn.deterministic = True"
   ]
  },
  {
   "cell_type": "code",
   "execution_count": null,
   "id": "3ec30c06-226e-458a-995a-7a931efcf0f6",
   "metadata": {},
   "outputs": [],
   "source": [
    "import torchvision.datasets"
   ]
  },
  {
   "cell_type": "code",
   "execution_count": null,
   "id": "9a1d4bf1-8a5f-4c2b-a580-f5c6fd23db9f",
   "metadata": {},
   "outputs": [],
   "source": [
    "MNIST_train = torchvision.datasets.MNIST('./', download=True, train=True)\n",
    "MNIST_test = torchvision.datasets.MNIST('./', download=True, train=False)"
   ]
  },
  {
   "cell_type": "code",
   "execution_count": null,
   "id": "d89d0e23-c494-442c-974d-b9e6b81905a0",
   "metadata": {},
   "outputs": [],
   "source": [
    "X_train = MNIST_train.train_data\n",
    "y_train = MNIST_train.train_labels\n",
    "X_test = MNIST_test.test_data\n",
    "y_test = MNIST_test.test_labels\n"
   ]
  },
  {
   "cell_type": "code",
   "execution_count": null,
   "id": "750c1233-22b5-4387-b006-df9b5de39152",
   "metadata": {},
   "outputs": [],
   "source": [
    "len(y_train), len(y_test)"
   ]
  },
  {
   "cell_type": "code",
   "execution_count": null,
   "id": "9b6b6b4a-25d5-45e1-969f-3633a9724a33",
   "metadata": {},
   "outputs": [],
   "source": [
    "X_train = X_train.float()\n",
    "X_test = X_test.float()"
   ]
  },
  {
   "cell_type": "code",
   "execution_count": null,
   "id": "f1a3ebd0-908c-4994-a032-f1461a1475e6",
   "metadata": {},
   "outputs": [],
   "source": [
    "import matplotlib.pyplot as plt\n",
    "plt.imshow(X_train[0, :, :])\n",
    "plt.show()\n",
    "print(y_train[0])"
   ]
  },
  {
   "cell_type": "code",
   "execution_count": null,
   "id": "f192a615-b6ad-40f4-9d92-8da7f0f9533d",
   "metadata": {},
   "outputs": [],
   "source": [
    "X_train = X_train.unsqueeze(1).float()\n",
    "X_test = X_test.unsqueeze(1).float()"
   ]
  },
  {
   "cell_type": "code",
   "execution_count": null,
   "id": "e72438e8-9fc8-4130-af64-1ddd75db99ec",
   "metadata": {},
   "outputs": [],
   "source": [
    "X_train.shape"
   ]
  },
  {
   "cell_type": "code",
   "execution_count": null,
   "id": "cc3236dc-15ce-4dcf-aea3-d50893a985fb",
   "metadata": {},
   "outputs": [],
   "source": [
    "class CIFARNet(torch.nn.Module):\n",
    "    def __init__(self):\n",
    "        super(CIFARNet, self).__init__()\n",
    "        self.batch_norm0 = torch.nn.BatchNorm2d(3)\n",
    "        ##self.batch_drop1 = torch.nn.Dropout(p=0.15, inplace=False)\n",
    "        ##self.batch_drop2 = torch.nn.Dropout2d(p=0.15, inplace=False)\n",
    "\n",
    "        self.conv1 = torch.nn.Conv2d(3, 16, 3, padding=1)\n",
    "        self.act1  = torch.nn.ReLU()\n",
    "        self.batch_norm1 = torch.nn.BatchNorm2d(16)\n",
    "        self.pool1 = torch.nn.MaxPool2d(2, 2)\n",
    "        \n",
    "        self.conv2 = torch.nn.Conv2d(16, 32, 3, padding=1)\n",
    "        self.act2  = torch.nn.ReLU()\n",
    "        self.batch_norm2 = torch.nn.BatchNorm2d(32)\n",
    "        self.pool2 = torch.nn.MaxPool2d(2, 2)\n",
    "        \n",
    "        self.conv3 = torch.nn.Conv2d(32, 64, 3, padding=1)\n",
    "        self.act3  = torch.nn.ReLU()\n",
    "        self.batch_norm3 = torch.nn.BatchNorm2d(64)\n",
    "\n",
    "        self.fc1   = torch.nn.Linear(8 * 8 * 64, 256)\n",
    "        self.act4  = torch.nn.Tanh()\n",
    "        self.batch_norm4 = torch.nn.BatchNorm1d(256)\n",
    "        \n",
    "        self.fc2   = torch.nn.Linear(256, 64)\n",
    "        self.act5  = torch.nn.Tanh()\n",
    "        self.batch_norm5 = torch.nn.BatchNorm1d(64)\n",
    "        \n",
    "        self.fc3   = torch.nn.Linear(64, 10)\n",
    "    \n",
    "    def forward(self, x):\n",
    "        x = self.batch_norm0(x)\n",
    "        ##x = self.batch_drop2(x)\n",
    "        x = self.conv1(x)\n",
    "        x = self.act1(x)\n",
    "        x = self.batch_norm1(x)\n",
    "        ##x = self.batch_drop2(x)\n",
    "        x = self.pool1(x)\n",
    "        \n",
    "        x = self.conv2(x)\n",
    "        x = self.act2(x)\n",
    "        x = self.batch_norm2(x)\n",
    "        ##x = self.batch_drop2(x)\n",
    "        x = self.pool2(x)\n",
    "        \n",
    "        x = self.conv3(x)\n",
    "        x = self.act3(x)\n",
    "        x = self.batch_norm3(x)\n",
    "        ##x = self.batch_drop2(x)\n",
    "        \n",
    "        x = x.view(x.size(0), x.size(1) * x.size(2) * x.size(3))\n",
    "        x = self.fc1(x)\n",
    "        x = self.act4(x)\n",
    "        x = self.batch_norm4(x)\n",
    "        ##x = self.batch_drop1(x)\n",
    "        x = self.fc2(x)\n",
    "        x = self.act5(x)\n",
    "        x = self.batch_norm5(x)\n",
    "        ##x = self.batch_drop1(x)\n",
    "        x = self.fc3(x)\n",
    "        \n",
    "        return x\n",
    "net = CIFARNet()  "
   ]
  },
  {
   "cell_type": "code",
   "execution_count": null,
   "id": "550a31af-e1dc-4dfa-bec7-0d65ae1da2c1",
   "metadata": {},
   "outputs": [],
   "source": [
    "def train(X_train, y_train, X_test, y_test):\n",
    "    device = torch.device('cuda:0' if torch.cuda.is_available() else 'cpu')\n",
    "    loss = torch.nn.CrossEntropyLoss()\n",
    "    optimizer = torch.optim.Adam(net.parameters(), lr=1.0e-3, weight_decay=1e-5)\n",
    "    \n",
    "    batch_size = 100\n",
    "\n",
    "    test_accuracy_history = []\n",
    "    test_loss_history = []\n",
    "\n",
    "    X_test = X_test.to(device)\n",
    "    y_test = y_test.to(device)\n",
    "\n",
    "    for epoch in range(50):\n",
    "        order = np.random.permutation(len(X_train))\n",
    "        for start_index in range(0, len(X_train), batch_size):\n",
    "            optimizer.zero_grad()\n",
    "            net.train()\n",
    "\n",
    "            batch_indexes = order[start_index:start_index+batch_size]\n",
    "\n",
    "            X_batch = X_train[batch_indexes].to(device)\n",
    "            y_batch = y_train[batch_indexes].to(device)\n",
    "\n",
    "            preds = net.forward(X_batch)\n",
    "\n",
    "            loss_value = loss(preds, y_batch)\n",
    "            loss_value.backward()\n",
    "\n",
    "            optimizer.step()\n",
    "            \n",
    "        net.eval()\n",
    "        with torch.no_grad(): \n",
    "             test_preds = net.forward(X_test)\n",
    "            \n",
    "        test_loss_history.append(loss(test_preds, y_test).data.cpu())\n",
    "\n",
    "        accuracy = (test_preds.argmax(dim=1) == y_test).float().mean().data.cpu()\n",
    "        test_accuracy_history.append(accuracy)\n",
    "        \n",
    "        print(accuracy)\n",
    "    print('---------------')    \n",
    "    return test_accuracy_history, test_loss_history\n",
    "\n",
    "accuracies = {}\n",
    "losses = {}"
   ]
  },
  {
   "cell_type": "code",
   "execution_count": null,
   "id": "4c8e39ab-c123-4be8-879d-60db17ec08a4",
   "metadata": {},
   "outputs": [],
   "source": [
    "device = torch.device('cuda:0' if torch.cuda.is_available() else 'cpu')\n",
    "net = net.to(device)"
   ]
  },
  {
   "cell_type": "code",
   "execution_count": null,
   "id": "d3d9bc53-7175-45eb-b8b8-3a4febbd8de6",
   "metadata": {},
   "outputs": [],
   "source": [
    "accuracies['cifar_net_drop'], losses['cifar_net_drop'] = \\\n",
    "    train(X_train, y_train, X_test, y_test)"
   ]
  },
  {
   "cell_type": "code",
   "execution_count": null,
   "id": "8f79713d-c6f1-4d6c-bafd-024d8eca96fc",
   "metadata": {},
   "outputs": [],
   "source": [
    "for experiment_id in accuracies.keys():\n",
    "    plt.plot(accuracies[experiment_id], label=experiment_id)\n",
    "plt.legend()\n",
    "plt.title('Validation Accuracy');"
   ]
  },
  {
   "cell_type": "code",
   "execution_count": null,
   "id": "3688a5f3-7bfa-44dd-a9c2-a851be6364a3",
   "metadata": {},
   "outputs": [],
   "source": [
    "for experiment_id in losses.keys():\n",
    "    plt.plot(losses[experiment_id], label=experiment_id)\n",
    "plt.legend()\n",
    "plt.title('Validation Loss');"
   ]
  }
 ],
 "metadata": {
  "kernelspec": {
   "display_name": "Python 3 (ipykernel)",
   "language": "python",
   "name": "python3"
  },
  "language_info": {
   "codemirror_mode": {
    "name": "ipython",
    "version": 3
   },
   "file_extension": ".py",
   "mimetype": "text/x-python",
   "name": "python",
   "nbconvert_exporter": "python",
   "pygments_lexer": "ipython3",
   "version": "3.8.6"
  }
 },
 "nbformat": 4,
 "nbformat_minor": 5
}
