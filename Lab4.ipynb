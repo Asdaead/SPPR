{
  "cells": [
    {
      "cell_type": "markdown",
      "id": "1eb393c3-724f-4bb3-8974-056e5b840253",
      "metadata": {
        "id": "1eb393c3-724f-4bb3-8974-056e5b840253"
      },
      "source": [
        "Цыварев Илья, вариант 1\n",
        "Метод активации -  Tanh\n",
        "Шаг градиентного спуска - 0.001"
      ]
    },
    {
      "cell_type": "markdown",
      "id": "a5513413-14d1-40f8-b4b8-0ae540695f13",
      "metadata": {
        "id": "a5513413-14d1-40f8-b4b8-0ae540695f13"
      },
      "source": [
        "Задание 1\n",
        "\n",
        "Свертка - операция, которая лежит в основе реализации сверточных сетей. Неформально эту операцию можно описать следующим образом — окном размера ядра g проходим с заданным шагом (обычно 1) все изображение f, на каждом шаге поэлементно умножаем содержимое окна на ядро g, результат суммируется и записывается в матрицу результата\n",
        "\n",
        "Паддинг - добавляет к краям изображения поддельные пиксели. Таким образом, ядро при проскальзывании позволяет неподдельным пикселям оказываться в своем центре, а затем распространяется на поддельные пиксели за пределами края, создавая выходную матрицу того же размера, что и входная.\n",
        "\n",
        "Страйд - идея страйда заключается в том, чтобы пропустить некоторые области, над которыми скользит ядро. Шаг 1 означает, что берутся пролеты через пиксель, то есть по факту каждый пролет является стандартной сверткой. Шаг 2 означает, что пролеты совершаются через каждые два пикселя, пропуская все другие пролеты в процессе и уменьшая их количество примерно в 2 раза, шаг 3 означает пропуск 3-х пикселей, сокращая количество в 3 раза и т.д.\n",
        "\n",
        "average_pooling, max_pooling - пулинговый слой призван снижать размерность изображения. Исходное изображение делится на блоки размером w×h и для каждого блока вычисляется некоторая функция. Чаще всего используется функция максимума (max pooling) или (взвешенного) среднего (average pooling)"
      ]
    },
    {
      "cell_type": "code",
      "execution_count": 1,
      "id": "a4d9ce63-685a-442a-abad-659b787360f5",
      "metadata": {
        "id": "a4d9ce63-685a-442a-abad-659b787360f5"
      },
      "outputs": [],
      "source": [
        "import torch\n",
        "import random\n",
        "import numpy as np\n",
        "import pandas as pd\n",
        "\n",
        "random.seed(0)\n",
        "np.random.seed(0)\n",
        "torch.manual_seed(0)\n",
        "torch.cuda.manual_seed(0)\n",
        "torch.backends.cudnn.deterministic = True"
      ]
    },
    {
      "cell_type": "code",
      "execution_count": 2,
      "id": "2548529e-61c6-4033-900c-322bd0145019",
      "metadata": {
        "id": "2548529e-61c6-4033-900c-322bd0145019"
      },
      "outputs": [],
      "source": [
        "import torchvision.datasets"
      ]
    },
    {
      "cell_type": "code",
      "execution_count": 3,
      "id": "63bdca24-03f3-46b1-b5e0-c3985ead9349",
      "metadata": {
        "id": "63bdca24-03f3-46b1-b5e0-c3985ead9349"
      },
      "outputs": [],
      "source": [
        "MNIST_train = torchvision.datasets.MNIST('./', download=True, train=True)\n",
        "MNIST_test = torchvision.datasets.MNIST('./', download=True, train=False)"
      ]
    },
    {
      "cell_type": "code",
      "execution_count": 4,
      "id": "d9d8a10a-bb45-45e9-9e53-4d0754f0b802",
      "metadata": {
        "colab": {
          "base_uri": "https://localhost:8080/"
        },
        "id": "d9d8a10a-bb45-45e9-9e53-4d0754f0b802",
        "outputId": "71936526-fbf7-432b-94c5-cfc857e8fc97"
      },
      "outputs": [
        {
          "output_type": "stream",
          "name": "stderr",
          "text": [
            "/usr/local/lib/python3.7/dist-packages/torchvision/datasets/mnist.py:62: UserWarning: train_data has been renamed data\n",
            "  warnings.warn(\"train_data has been renamed data\")\n",
            "/usr/local/lib/python3.7/dist-packages/torchvision/datasets/mnist.py:52: UserWarning: train_labels has been renamed targets\n",
            "  warnings.warn(\"train_labels has been renamed targets\")\n",
            "/usr/local/lib/python3.7/dist-packages/torchvision/datasets/mnist.py:67: UserWarning: test_data has been renamed data\n",
            "  warnings.warn(\"test_data has been renamed data\")\n",
            "/usr/local/lib/python3.7/dist-packages/torchvision/datasets/mnist.py:57: UserWarning: test_labels has been renamed targets\n",
            "  warnings.warn(\"test_labels has been renamed targets\")\n"
          ]
        }
      ],
      "source": [
        "X_train = MNIST_train.train_data\n",
        "y_train = MNIST_train.train_labels\n",
        "X_test = MNIST_test.test_data\n",
        "y_test = MNIST_test.test_labels"
      ]
    },
    {
      "cell_type": "code",
      "execution_count": 5,
      "id": "9f452a2d-4772-4ee6-b0e6-b51f55b0c0cc",
      "metadata": {
        "colab": {
          "base_uri": "https://localhost:8080/"
        },
        "id": "9f452a2d-4772-4ee6-b0e6-b51f55b0c0cc",
        "outputId": "7ec21a29-cfb4-4ed0-a2d2-114abe712166"
      },
      "outputs": [
        {
          "output_type": "execute_result",
          "data": {
            "text/plain": [
              "(60000, 10000)"
            ]
          },
          "metadata": {},
          "execution_count": 5
        }
      ],
      "source": [
        "len(y_train), len(y_test)"
      ]
    },
    {
      "cell_type": "code",
      "execution_count": 6,
      "id": "87318900-cb1e-47f7-be21-eaa651c279a6",
      "metadata": {
        "id": "87318900-cb1e-47f7-be21-eaa651c279a6"
      },
      "outputs": [],
      "source": [
        "X_train = X_train.float()\n",
        "X_test = X_test.float()"
      ]
    },
    {
      "cell_type": "code",
      "execution_count": 7,
      "id": "bd9934f3-cbda-4c22-90fe-a28be3f8812c",
      "metadata": {
        "colab": {
          "base_uri": "https://localhost:8080/",
          "height": 284
        },
        "id": "bd9934f3-cbda-4c22-90fe-a28be3f8812c",
        "outputId": "50b5d690-a0dd-4c2d-b6d3-1f7edf77b56f"
      },
      "outputs": [
        {
          "output_type": "display_data",
          "data": {
            "text/plain": [
              "<Figure size 432x288 with 1 Axes>"
            ],
            "image/png": "[encoded data removed]"
          },
          "metadata": {
            "needs_background": "light"
          }
        },
        {
          "output_type": "stream",
          "name": "stdout",
          "text": [
            "tensor(5)\n"
          ]
        }
      ],
      "source": [
        "import matplotlib.pyplot as plt\n",
        "plt.imshow(X_train[0, :, :])\n",
        "plt.show()\n",
        "print(y_train[0])"
      ]
    },
    {
      "cell_type": "code",
      "execution_count": 8,
      "id": "93e2f8aa-5049-4e6a-8e10-9d8da7604cf8",
      "metadata": {
        "id": "93e2f8aa-5049-4e6a-8e10-9d8da7604cf8"
      },
      "outputs": [],
      "source": [
        "X_train = X_train.unsqueeze(1).float()\n",
        "X_test = X_test.unsqueeze(1).float()"
      ]
    },
    {
      "cell_type": "code",
      "execution_count": 9,
      "id": "5e80ecf5-cee4-4af7-a92e-b6fce4b80e6c",
      "metadata": {
        "colab": {
          "base_uri": "https://localhost:8080/"
        },
        "id": "5e80ecf5-cee4-4af7-a92e-b6fce4b80e6c",
        "outputId": "07a97263-46a1-4586-98ad-60a368cc2f36"
      },
      "outputs": [
        {
          "output_type": "execute_result",
          "data": {
            "text/plain": [
              "torch.Size([60000, 1, 28, 28])"
            ]
          },
          "metadata": {},
          "execution_count": 9
        }
      ],
      "source": [
        "X_train.shape"
      ]
    },
    {
      "cell_type": "code",
      "execution_count": 10,
      "id": "28fdb547-9915-4c51-aa1e-abf2a27294ce",
      "metadata": {
        "id": "28fdb547-9915-4c51-aa1e-abf2a27294ce"
      },
      "outputs": [],
      "source": [
        "class LeNet5(torch.nn.Module):\n",
        "    def __init__(self, n_layers = 1, activation = 'tanh', pooling = 'average'):\n",
        "        super(LeNet5, self).__init__()\n",
        "        \n",
        "        if activation == 'tanh':\n",
        "            act = torch.nn.Tanh()\n",
        "        elif activation == 'relu':\n",
        "            act = torch.nn.ReLU()\n",
        "            \n",
        "        if pooling == 'average':\n",
        "            pooling_layer = torch.nn.AvgPool2d(kernel_size=2, stride=2)\n",
        "        elif pooling == 'max':\n",
        "            pooling_layer = torch.nn.MaxPool2d(kernel_size=2, stride=2)\n",
        "\n",
        "        feature_extractor = torch.nn.Sequential()\n",
        "        \n",
        "        feature_extractor.add_module('conv_input',torch.nn.Conv2d(in_channels=1, out_channels=6, kernel_size=5, padding=2))\n",
        "        feature_extractor.add_module('activation_input',act)\n",
        "        feature_extractor.add_module('pooling1',pooling_layer)\n",
        "        for i in range(n_layers):\n",
        "            feature_extractor.add_module(f'conv_{i}',torch.nn.Conv2d(in_channels=6, out_channels=6, kernel_size=5, padding=2))\n",
        "            feature_extractor.add_module(f'activation_{i}',act)\n",
        "            \n",
        "        feature_extractor.add_module('conv_last',torch.nn.Conv2d(in_channels=6, out_channels=16, kernel_size=5, padding=0))\n",
        "        feature_extractor.add_module('activation_last',act)\n",
        "        feature_extractor.add_module('pooling2',pooling_layer)\n",
        "        \n",
        "        classifier = torch.nn.Sequential()\n",
        "        \n",
        "        classifier.add_module('linear1',torch.nn.Linear(5 * 5 * 16, 120))\n",
        "        classifier.add_module('activation3',act)\n",
        "        classifier.add_module('linear2',torch.nn.Linear(120, 84))\n",
        "        classifier.add_module('activation4',act)\n",
        "        classifier.add_module('linear3',torch.nn.Linear(84, 10))\n",
        "        \n",
        "        self.feature_extractor = feature_extractor\n",
        "        self.classifier = classifier\n",
        "    \n",
        "    def forward(self, x):\n",
        "        \n",
        "        x = self.feature_extractor(x)\n",
        "        x = x.view(x.size(0), x.size(1) * x.size(2) * x.size(3))\n",
        "        x = self.classifier(x)\n",
        "        \n",
        "        return x"
      ]
    },
    {
      "cell_type": "code",
      "execution_count": 11,
      "id": "af3dceaa-e604-45f5-9cb8-fcc27e26e71c",
      "metadata": {
        "id": "af3dceaa-e604-45f5-9cb8-fcc27e26e71c"
      },
      "outputs": [],
      "source": [
        "def train(net,optimizer,X_train,y_train,X_test,y_test, device, batch_size = 10240,n_epochs = 1000):\n",
        "    loss = torch.nn.CrossEntropyLoss()\n",
        "    test_accuracy_history = []\n",
        "    test_loss_history = []\n",
        "    train_loss_history = []\n",
        "\n",
        "    X_test = X_test.to(device)\n",
        "    y_test = y_test.to(device)\n",
        "    for epoch in range(n_epochs):\n",
        "        order = np.random.permutation(len(X_train))\n",
        "        n_true_preds = 0\n",
        "        n_total = 0\n",
        "        train_step_loss_history = []\n",
        "        for start_index in range(0, len(X_train), batch_size):\n",
        "            optimizer.zero_grad()\n",
        "\n",
        "            batch_indexes = order[start_index:start_index+batch_size]\n",
        "\n",
        "            X_batch = X_train[batch_indexes].to(device)\n",
        "            y_batch = y_train[batch_indexes].to(device)\n",
        "\n",
        "            preds = net.forward(X_batch) \n",
        "            n_true_preds += (preds.argmax(dim=1) == y_batch).float().sum().item()\n",
        "            n_total += len(preds)\n",
        "\n",
        "            loss_value = loss(preds, y_batch)\n",
        "            loss_value.backward()\n",
        "\n",
        "            optimizer.step()\n",
        "            train_step_loss_history.append(loss_value.item())\n",
        "\n",
        "        train_loss_history.append(torch.mean(torch.Tensor(train_step_loss_history)).item())\n",
        "        with torch.no_grad():\n",
        "          test_preds = net.forward(X_test)\n",
        "          test_loss_history.append(loss(test_preds, y_test).cpu().item())\n",
        "\n",
        "          accuracy = (test_preds.argmax(dim=1) == y_test).float().mean().item()\n",
        "          test_accuracy_history.append(accuracy)\n",
        "        print(f'Epoch : {epoch}, accuracy: {accuracy}')\n",
        "        \n",
        "    print(f'Max test accuracy : {max(test_accuracy_history)}')\n",
        "    pd.DataFrame({'train': train_loss_history, 'test': test_loss_history}).plot()"
      ]
    },
    {
      "cell_type": "markdown",
      "id": "38100324-8a0d-4a42-a5c5-ad2daeeeb8ac",
      "metadata": {
        "id": "38100324-8a0d-4a42-a5c5-ad2daeeeb8ac"
      },
      "source": [
        "Задание 2"
      ]
    },
    {
      "cell_type": "code",
      "execution_count": 12,
      "id": "7d40de5a-cf71-4d47-9976-6ab79f4dbd72",
      "metadata": {
        "id": "7d40de5a-cf71-4d47-9976-6ab79f4dbd72"
      },
      "outputs": [],
      "source": [
        "device = torch.device('cuda:0' if torch.cuda.is_available() else 'cpu')\n",
        "lenet5 = LeNet5().to(device)\n",
        "optimizer = torch.optim.Adam(lenet5.parameters(), lr=0.001)"
      ]
    },
    {
      "cell_type": "code",
      "execution_count": 13,
      "id": "fe569d31-c7de-4c52-9950-8ebea2d762ce",
      "metadata": {
        "colab": {
          "base_uri": "https://localhost:8080/",
          "height": 648
        },
        "id": "fe569d31-c7de-4c52-9950-8ebea2d762ce",
        "outputId": "bfd4739e-cd1e-448d-e29f-43e272b6d87b"
      },
      "outputs": [
        {
          "output_type": "stream",
          "name": "stdout",
          "text": [
            "Epoch : 0, accuracy: 0.5455999970436096\n",
            "Epoch : 1, accuracy: 0.5925999879837036\n",
            "Epoch : 2, accuracy: 0.6832999587059021\n",
            "Epoch : 3, accuracy: 0.7829999923706055\n",
            "Epoch : 4, accuracy: 0.8378999829292297\n",
            "Epoch : 5, accuracy: 0.8643999695777893\n",
            "Epoch : 6, accuracy: 0.8794999718666077\n",
            "Epoch : 7, accuracy: 0.8933999538421631\n",
            "Epoch : 8, accuracy: 0.9012999534606934\n",
            "Epoch : 9, accuracy: 0.9104999899864197\n",
            "Epoch : 10, accuracy: 0.9195999503135681\n",
            "Epoch : 11, accuracy: 0.927299976348877\n",
            "Epoch : 12, accuracy: 0.9335999488830566\n",
            "Epoch : 13, accuracy: 0.9398999810218811\n",
            "Epoch : 14, accuracy: 0.9451999664306641\n",
            "Epoch : 15, accuracy: 0.9488999843597412\n",
            "Epoch : 16, accuracy: 0.9524999856948853\n",
            "Epoch : 17, accuracy: 0.9562999606132507\n",
            "Epoch : 18, accuracy: 0.958899974822998\n",
            "Epoch : 19, accuracy: 0.9614999890327454\n",
            "Max test accuracy : 0.9614999890327454\n"
          ]
        },
        {
          "output_type": "display_data",
          "data": {
            "text/plain": [
              "<Figure size 432x288 with 1 Axes>"
            ],
            "image/png": "[encoded data removed]"
          },
          "metadata": {
            "needs_background": "light"
          }
        }
      ],
      "source": [
        "train(lenet5,optimizer, \n",
        "    X_train,y_train,\n",
        "    X_test,y_test, \n",
        "    device, \n",
        "    batch_size = 10240,\n",
        "    n_epochs = 20)"
      ]
    },
    {
      "cell_type": "markdown",
      "id": "c93f4535-5195-4a71-a82d-757469b837dc",
      "metadata": {
        "id": "c93f4535-5195-4a71-a82d-757469b837dc"
      },
      "source": [
        "Задание 3"
      ]
    },
    {
      "cell_type": "code",
      "execution_count": 16,
      "id": "46edd39f-a780-40ab-b8e5-eed903b8f25e",
      "metadata": {
        "colab": {
          "base_uri": "https://localhost:8080/",
          "height": 648
        },
        "id": "46edd39f-a780-40ab-b8e5-eed903b8f25e",
        "outputId": "95b44e48-2ccd-4e0d-b467-d56a3e7046a1"
      },
      "outputs": [
        {
          "output_type": "stream",
          "name": "stdout",
          "text": [
            "Epoch : 0, accuracy: 0.5227000117301941\n",
            "Epoch : 1, accuracy: 0.5866999626159668\n",
            "Epoch : 2, accuracy: 0.7002999782562256\n",
            "Epoch : 3, accuracy: 0.7563999891281128\n",
            "Epoch : 4, accuracy: 0.8069999814033508\n",
            "Epoch : 5, accuracy: 0.842799961566925\n",
            "Epoch : 6, accuracy: 0.8637999892234802\n",
            "Epoch : 7, accuracy: 0.8815999627113342\n",
            "Epoch : 8, accuracy: 0.8969999551773071\n",
            "Epoch : 9, accuracy: 0.9056999683380127\n",
            "Epoch : 10, accuracy: 0.9156000018119812\n",
            "Epoch : 11, accuracy: 0.9211999773979187\n",
            "Epoch : 12, accuracy: 0.9286999702453613\n",
            "Epoch : 13, accuracy: 0.9343999624252319\n",
            "Epoch : 14, accuracy: 0.9396999478340149\n",
            "Epoch : 15, accuracy: 0.9435999989509583\n",
            "Epoch : 16, accuracy: 0.9467999935150146\n",
            "Epoch : 17, accuracy: 0.9508999586105347\n",
            "Epoch : 18, accuracy: 0.9527999758720398\n",
            "Epoch : 19, accuracy: 0.9569000005722046\n",
            "Max test accuracy : 0.9569000005722046\n"
          ]
        },
        {
          "output_type": "display_data",
          "data": {
            "text/plain": [
              "<Figure size 432x288 with 1 Axes>"
            ],
            "image/png": "[encoded data removed]"
          },
          "metadata": {
            "needs_background": "light"
          }
        }
      ],
      "source": [
        "lenet5 = LeNet5(2,'tanh').to(device)\n",
        "optimizer = torch.optim.Adam(lenet5.parameters(), lr=0.001)\n",
        "train(lenet5,optimizer,\n",
        "        X_train,y_train,\n",
        "        X_test,y_test, \n",
        "        device, \n",
        "        batch_size = 10240,\n",
        "        n_epochs = 20)"
      ]
    },
    {
      "cell_type": "code",
      "execution_count": 18,
      "id": "8fd972b7-7a5e-47d8-aaba-a482708b4c19",
      "metadata": {
        "colab": {
          "base_uri": "https://localhost:8080/",
          "height": 648
        },
        "id": "8fd972b7-7a5e-47d8-aaba-a482708b4c19",
        "outputId": "7c609297-46d8-4902-db4f-75b4e8359039"
      },
      "outputs": [
        {
          "output_type": "stream",
          "name": "stdout",
          "text": [
            "Epoch : 0, accuracy: 0.5455999970436096\n",
            "Epoch : 1, accuracy: 0.7185999751091003\n",
            "Epoch : 2, accuracy: 0.7824999690055847\n",
            "Epoch : 3, accuracy: 0.8596000075340271\n",
            "Epoch : 4, accuracy: 0.8822000026702881\n",
            "Epoch : 5, accuracy: 0.8949999809265137\n",
            "Epoch : 6, accuracy: 0.9120000004768372\n",
            "Epoch : 7, accuracy: 0.9246000051498413\n",
            "Epoch : 8, accuracy: 0.9343000054359436\n",
            "Epoch : 9, accuracy: 0.9424999952316284\n",
            "Epoch : 10, accuracy: 0.948699951171875\n",
            "Epoch : 11, accuracy: 0.9541999697685242\n",
            "Epoch : 12, accuracy: 0.9587000012397766\n",
            "Epoch : 13, accuracy: 0.9631999731063843\n",
            "Epoch : 14, accuracy: 0.965499997138977\n",
            "Epoch : 15, accuracy: 0.9687999486923218\n",
            "Epoch : 16, accuracy: 0.9708999991416931\n",
            "Epoch : 17, accuracy: 0.9711999893188477\n",
            "Epoch : 18, accuracy: 0.9736999869346619\n",
            "Epoch : 19, accuracy: 0.9752999544143677\n",
            "Max test accuracy : 0.9752999544143677\n"
          ]
        },
        {
          "output_type": "display_data",
          "data": {
            "text/plain": [
              "<Figure size 432x288 with 1 Axes>"
            ],
            "image/png": "[encoded data removed]"
          },
          "metadata": {
            "needs_background": "light"
          }
        }
      ],
      "source": [
        "lenet5 = LeNet5(2,'relu').to(device)\n",
        "optimizer = torch.optim.Adam(lenet5.parameters(), lr=0.001)\n",
        "train(lenet5,optimizer,\n",
        "        X_train,y_train,\n",
        "        X_test,y_test, \n",
        "        device, \n",
        "        batch_size = 10240,\n",
        "        n_epochs = 20)"
      ]
    },
    {
      "cell_type": "markdown",
      "id": "c912bf55-4384-4598-a6d4-3571875f01c5",
      "metadata": {
        "id": "c912bf55-4384-4598-a6d4-3571875f01c5"
      },
      "source": [
        "Изменение типа активации увеличило максимальную точность на 2%"
      ]
    },
    {
      "cell_type": "code",
      "execution_count": 19,
      "id": "d760cfb0-b6d6-44a4-b415-143ff4c96b86",
      "metadata": {
        "colab": {
          "base_uri": "https://localhost:8080/",
          "height": 1000
        },
        "id": "d760cfb0-b6d6-44a4-b415-143ff4c96b86",
        "outputId": "ec8e52f6-72ea-4f7d-f42b-11c04ea3dd4d"
      },
      "outputs": [
        {
          "output_type": "stream",
          "name": "stdout",
          "text": [
            "Epoch : 0, accuracy: 0.4034999907016754\n",
            "Epoch : 1, accuracy: 0.5306000113487244\n",
            "Epoch : 2, accuracy: 0.6484999656677246\n",
            "Epoch : 3, accuracy: 0.7387999892234802\n",
            "Epoch : 4, accuracy: 0.7821999788284302\n",
            "Epoch : 5, accuracy: 0.821399986743927\n",
            "Epoch : 6, accuracy: 0.8518999814987183\n",
            "Epoch : 7, accuracy: 0.8792999982833862\n",
            "Epoch : 8, accuracy: 0.9003999829292297\n",
            "Epoch : 9, accuracy: 0.9174000024795532\n",
            "Epoch : 10, accuracy: 0.9265999794006348\n",
            "Epoch : 11, accuracy: 0.9332000017166138\n",
            "Epoch : 12, accuracy: 0.9389999508857727\n",
            "Epoch : 13, accuracy: 0.9437999725341797\n",
            "Epoch : 14, accuracy: 0.9495999813079834\n",
            "Epoch : 15, accuracy: 0.9528999924659729\n",
            "Epoch : 16, accuracy: 0.9566999673843384\n",
            "Epoch : 17, accuracy: 0.9601999521255493\n",
            "Epoch : 18, accuracy: 0.9620999693870544\n",
            "Epoch : 19, accuracy: 0.9635999798774719\n",
            "Epoch : 20, accuracy: 0.9639999866485596\n",
            "Epoch : 21, accuracy: 0.9666999578475952\n",
            "Epoch : 22, accuracy: 0.9662999510765076\n",
            "Epoch : 23, accuracy: 0.9687999486923218\n",
            "Epoch : 24, accuracy: 0.9705999493598938\n",
            "Epoch : 25, accuracy: 0.9716999530792236\n",
            "Epoch : 26, accuracy: 0.9724999666213989\n",
            "Epoch : 27, accuracy: 0.972599983215332\n",
            "Epoch : 28, accuracy: 0.9735999703407288\n",
            "Epoch : 29, accuracy: 0.9741999506950378\n",
            "Epoch : 30, accuracy: 0.9745000004768372\n",
            "Epoch : 31, accuracy: 0.9761999845504761\n",
            "Epoch : 32, accuracy: 0.9749999642372131\n",
            "Epoch : 33, accuracy: 0.9754999876022339\n",
            "Epoch : 34, accuracy: 0.9769999980926514\n",
            "Epoch : 35, accuracy: 0.9775999784469604\n",
            "Epoch : 36, accuracy: 0.9782999753952026\n",
            "Epoch : 37, accuracy: 0.9777999520301819\n",
            "Epoch : 38, accuracy: 0.9786999821662903\n",
            "Epoch : 39, accuracy: 0.9787999987602234\n",
            "Epoch : 40, accuracy: 0.9799999594688416\n",
            "Epoch : 41, accuracy: 0.9795999526977539\n",
            "Epoch : 42, accuracy: 0.9806999564170837\n",
            "Epoch : 43, accuracy: 0.9803999662399292\n",
            "Epoch : 44, accuracy: 0.98089998960495\n",
            "Epoch : 45, accuracy: 0.9817000031471252\n",
            "Epoch : 46, accuracy: 0.98089998960495\n",
            "Epoch : 47, accuracy: 0.98089998960495\n",
            "Epoch : 48, accuracy: 0.9812999963760376\n",
            "Epoch : 49, accuracy: 0.9825999736785889\n",
            "Epoch : 50, accuracy: 0.9818999767303467\n",
            "Epoch : 51, accuracy: 0.9827999472618103\n",
            "Epoch : 52, accuracy: 0.9824999570846558\n",
            "Epoch : 53, accuracy: 0.9833999872207642\n",
            "Epoch : 54, accuracy: 0.9827999472618103\n",
            "Epoch : 55, accuracy: 0.983299970626831\n",
            "Epoch : 56, accuracy: 0.9839999675750732\n",
            "Epoch : 57, accuracy: 0.9833999872207642\n",
            "Epoch : 58, accuracy: 0.9843999743461609\n",
            "Epoch : 59, accuracy: 0.9846999645233154\n",
            "Epoch : 60, accuracy: 0.9845999479293823\n",
            "Epoch : 61, accuracy: 0.9846999645233154\n",
            "Epoch : 62, accuracy: 0.9842999577522278\n",
            "Epoch : 63, accuracy: 0.9846999645233154\n",
            "Epoch : 64, accuracy: 0.9845999479293823\n",
            "Epoch : 65, accuracy: 0.98499995470047\n",
            "Epoch : 66, accuracy: 0.9853999614715576\n",
            "Epoch : 67, accuracy: 0.9848999977111816\n",
            "Epoch : 68, accuracy: 0.9857999682426453\n",
            "Epoch : 69, accuracy: 0.9854999780654907\n",
            "Epoch : 70, accuracy: 0.9850999712944031\n",
            "Epoch : 71, accuracy: 0.9853999614715576\n",
            "Epoch : 72, accuracy: 0.984499990940094\n",
            "Epoch : 73, accuracy: 0.9854999780654907\n",
            "Epoch : 74, accuracy: 0.9853999614715576\n",
            "Epoch : 75, accuracy: 0.9858999848365784\n",
            "Epoch : 76, accuracy: 0.9863999485969543\n",
            "Epoch : 77, accuracy: 0.986299991607666\n",
            "Epoch : 78, accuracy: 0.9872999787330627\n",
            "Epoch : 79, accuracy: 0.9864999651908875\n",
            "Epoch : 80, accuracy: 0.9866999983787537\n",
            "Epoch : 81, accuracy: 0.9863999485969543\n",
            "Epoch : 82, accuracy: 0.9869999885559082\n",
            "Epoch : 83, accuracy: 0.986799955368042\n",
            "Epoch : 84, accuracy: 0.9864999651908875\n",
            "Epoch : 85, accuracy: 0.9876999855041504\n",
            "Epoch : 86, accuracy: 0.9868999719619751\n",
            "Epoch : 87, accuracy: 0.9875999689102173\n",
            "Epoch : 88, accuracy: 0.9879999756813049\n",
            "Epoch : 89, accuracy: 0.9875999689102173\n",
            "Epoch : 90, accuracy: 0.9878999590873718\n",
            "Epoch : 91, accuracy: 0.9873999953269958\n",
            "Epoch : 92, accuracy: 0.9882999658584595\n",
            "Epoch : 93, accuracy: 0.9882999658584595\n",
            "Epoch : 94, accuracy: 0.9871999621391296\n",
            "Epoch : 95, accuracy: 0.9874999523162842\n",
            "Epoch : 96, accuracy: 0.9879999756813049\n",
            "Epoch : 97, accuracy: 0.9878999590873718\n",
            "Epoch : 98, accuracy: 0.9879999756813049\n",
            "Epoch : 99, accuracy: 0.9873999953269958\n",
            "Max test accuracy : 0.9882999658584595\n"
          ]
        },
        {
          "output_type": "display_data",
          "data": {
            "text/plain": [
              "<Figure size 432x288 with 1 Axes>"
            ],
            "image/png": "[encoded data removed]"
          },
          "metadata": {
            "needs_background": "light"
          }
        }
      ],
      "source": [
        "lenet5 = LeNet5(3).to(device)\n",
        "optimizer = torch.optim.Adam(lenet5.parameters(), lr=0.001)\n",
        "train(lenet5,optimizer,\n",
        "        X_train,y_train,\n",
        "        X_test,y_test, \n",
        "        device, \n",
        "        batch_size = 10240,\n",
        "        n_epochs = 100)"
      ]
    },
    {
      "cell_type": "code",
      "execution_count": 20,
      "id": "559fdbfa-72f1-4781-b5c5-f41f6092b886",
      "metadata": {
        "colab": {
          "base_uri": "https://localhost:8080/",
          "height": 1000
        },
        "id": "559fdbfa-72f1-4781-b5c5-f41f6092b886",
        "outputId": "a43ab94e-c4f8-43ec-f341-45c1efb9bb6b"
      },
      "outputs": [
        {
          "output_type": "stream",
          "name": "stdout",
          "text": [
            "Epoch : 0, accuracy: 0.1832999885082245\n",
            "Epoch : 1, accuracy: 0.4722999930381775\n",
            "Epoch : 2, accuracy: 0.5633000135421753\n",
            "Epoch : 3, accuracy: 0.6951999664306641\n",
            "Epoch : 4, accuracy: 0.7651999592781067\n",
            "Epoch : 5, accuracy: 0.8095999956130981\n",
            "Epoch : 6, accuracy: 0.8337999582290649\n",
            "Epoch : 7, accuracy: 0.8527999520301819\n",
            "Epoch : 8, accuracy: 0.8707000017166138\n",
            "Epoch : 9, accuracy: 0.8876999616622925\n",
            "Epoch : 10, accuracy: 0.9014999866485596\n",
            "Epoch : 11, accuracy: 0.9143999814987183\n",
            "Epoch : 12, accuracy: 0.9261999726295471\n",
            "Epoch : 13, accuracy: 0.9352999925613403\n",
            "Epoch : 14, accuracy: 0.9431999921798706\n",
            "Epoch : 15, accuracy: 0.9495999813079834\n",
            "Epoch : 16, accuracy: 0.9537999629974365\n",
            "Epoch : 17, accuracy: 0.9580000042915344\n",
            "Epoch : 18, accuracy: 0.9607999920845032\n",
            "Epoch : 19, accuracy: 0.9631999731063843\n",
            "Epoch : 20, accuracy: 0.9648000001907349\n",
            "Epoch : 21, accuracy: 0.9682999849319458\n",
            "Epoch : 22, accuracy: 0.9695999622344971\n",
            "Epoch : 23, accuracy: 0.9702000021934509\n",
            "Epoch : 24, accuracy: 0.9713999629020691\n",
            "Epoch : 25, accuracy: 0.9733999967575073\n",
            "Epoch : 26, accuracy: 0.9735999703407288\n",
            "Epoch : 27, accuracy: 0.9736999869346619\n",
            "Epoch : 28, accuracy: 0.9741999506950378\n",
            "Epoch : 29, accuracy: 0.9757999777793884\n",
            "Epoch : 30, accuracy: 0.9756999611854553\n",
            "Epoch : 31, accuracy: 0.9763000011444092\n",
            "Epoch : 32, accuracy: 0.9745000004768372\n",
            "Epoch : 33, accuracy: 0.976699948310852\n",
            "Epoch : 34, accuracy: 0.977400004863739\n",
            "Epoch : 35, accuracy: 0.9775999784469604\n",
            "Epoch : 36, accuracy: 0.9785999655723572\n",
            "Epoch : 37, accuracy: 0.9785999655723572\n",
            "Epoch : 38, accuracy: 0.9787999987602234\n",
            "Epoch : 39, accuracy: 0.9795999526977539\n",
            "Epoch : 40, accuracy: 0.9789999723434448\n",
            "Epoch : 41, accuracy: 0.9799999594688416\n",
            "Epoch : 42, accuracy: 0.9781000018119812\n",
            "Epoch : 43, accuracy: 0.9812999963760376\n",
            "Epoch : 44, accuracy: 0.9809999465942383\n",
            "Epoch : 45, accuracy: 0.9802999496459961\n",
            "Epoch : 46, accuracy: 0.9817000031471252\n",
            "Epoch : 47, accuracy: 0.9810999631881714\n",
            "Epoch : 48, accuracy: 0.9827999472618103\n",
            "Epoch : 49, accuracy: 0.9825999736785889\n",
            "Epoch : 50, accuracy: 0.9829999804496765\n",
            "Epoch : 51, accuracy: 0.9835000038146973\n",
            "Epoch : 52, accuracy: 0.9828999638557434\n",
            "Epoch : 53, accuracy: 0.9835999608039856\n",
            "Epoch : 54, accuracy: 0.9830999970436096\n",
            "Epoch : 55, accuracy: 0.9838999509811401\n",
            "Epoch : 56, accuracy: 0.9842000007629395\n",
            "Epoch : 57, accuracy: 0.9840999841690063\n",
            "Epoch : 58, accuracy: 0.9837999939918518\n",
            "Epoch : 59, accuracy: 0.9838999509811401\n",
            "Epoch : 60, accuracy: 0.9840999841690063\n",
            "Epoch : 61, accuracy: 0.9842000007629395\n",
            "Epoch : 62, accuracy: 0.9845999479293823\n",
            "Epoch : 63, accuracy: 0.9842999577522278\n",
            "Epoch : 64, accuracy: 0.984499990940094\n",
            "Epoch : 65, accuracy: 0.9836999773979187\n",
            "Epoch : 66, accuracy: 0.9846999645233154\n",
            "Epoch : 67, accuracy: 0.9846999645233154\n",
            "Epoch : 68, accuracy: 0.98499995470047\n",
            "Epoch : 69, accuracy: 0.98499995470047\n",
            "Epoch : 70, accuracy: 0.98499995470047\n",
            "Epoch : 71, accuracy: 0.9848999977111816\n",
            "Epoch : 72, accuracy: 0.9851999878883362\n",
            "Epoch : 73, accuracy: 0.9858999848365784\n",
            "Epoch : 74, accuracy: 0.9843999743461609\n",
            "Epoch : 75, accuracy: 0.9851999878883362\n",
            "Epoch : 76, accuracy: 0.9857999682426453\n",
            "Epoch : 77, accuracy: 0.9858999848365784\n",
            "Epoch : 78, accuracy: 0.9851999878883362\n",
            "Epoch : 79, accuracy: 0.9861999750137329\n",
            "Epoch : 80, accuracy: 0.9863999485969543\n",
            "Epoch : 81, accuracy: 0.9848999977111816\n",
            "Epoch : 82, accuracy: 0.9856999516487122\n",
            "Epoch : 83, accuracy: 0.986299991607666\n",
            "Epoch : 84, accuracy: 0.9858999848365784\n",
            "Epoch : 85, accuracy: 0.9860000014305115\n",
            "Epoch : 86, accuracy: 0.9866999983787537\n",
            "Epoch : 87, accuracy: 0.986799955368042\n",
            "Epoch : 88, accuracy: 0.9855999946594238\n",
            "Epoch : 89, accuracy: 0.9866999983787537\n",
            "Epoch : 90, accuracy: 0.986799955368042\n",
            "Epoch : 91, accuracy: 0.9860999584197998\n",
            "Epoch : 92, accuracy: 0.9857999682426453\n",
            "Epoch : 93, accuracy: 0.9871999621391296\n",
            "Epoch : 94, accuracy: 0.9869999885559082\n",
            "Epoch : 95, accuracy: 0.9848999977111816\n",
            "Epoch : 96, accuracy: 0.9870999455451965\n",
            "Epoch : 97, accuracy: 0.9868999719619751\n",
            "Epoch : 98, accuracy: 0.9871999621391296\n",
            "Epoch : 99, accuracy: 0.9869999885559082\n",
            "Max test accuracy : 0.9871999621391296\n"
          ]
        },
        {
          "output_type": "display_data",
          "data": {
            "text/plain": [
              "<Figure size 432x288 with 1 Axes>"
            ],
            "image/png": "[encoded data removed]"
          },
          "metadata": {
            "needs_background": "light"
          }
        }
      ],
      "source": [
        "lenet5 = LeNet5(5).to(device)\n",
        "optimizer = torch.optim.Adam(lenet5.parameters(), lr=0.001)\n",
        "train(lenet5,optimizer,\n",
        "        X_train,y_train,\n",
        "        X_test,y_test, \n",
        "        device, \n",
        "        batch_size = 10240,\n",
        "        n_epochs = 100)"
      ]
    },
    {
      "cell_type": "code",
      "execution_count": 21,
      "id": "3fc18df8-038b-4b2c-8b23-9f4d46a2d97d",
      "metadata": {
        "colab": {
          "base_uri": "https://localhost:8080/",
          "height": 1000
        },
        "id": "3fc18df8-038b-4b2c-8b23-9f4d46a2d97d",
        "outputId": "1943145d-96a4-48a9-9e09-8852a7174c67"
      },
      "outputs": [
        {
          "output_type": "stream",
          "name": "stdout",
          "text": [
            "Epoch : 0, accuracy: 0.17009998857975006\n",
            "Epoch : 1, accuracy: 0.33249998092651367\n",
            "Epoch : 2, accuracy: 0.4219000041484833\n",
            "Epoch : 3, accuracy: 0.5388999581336975\n",
            "Epoch : 4, accuracy: 0.5776000022888184\n",
            "Epoch : 5, accuracy: 0.6559000015258789\n",
            "Epoch : 6, accuracy: 0.7098999619483948\n",
            "Epoch : 7, accuracy: 0.7673999667167664\n",
            "Epoch : 8, accuracy: 0.8100999593734741\n",
            "Epoch : 9, accuracy: 0.8446999788284302\n",
            "Epoch : 10, accuracy: 0.8691999912261963\n",
            "Epoch : 11, accuracy: 0.8906999826431274\n",
            "Epoch : 12, accuracy: 0.9067999720573425\n",
            "Epoch : 13, accuracy: 0.9186999797821045\n",
            "Epoch : 14, accuracy: 0.9283999800682068\n",
            "Epoch : 15, accuracy: 0.9352999925613403\n",
            "Epoch : 16, accuracy: 0.9438999891281128\n",
            "Epoch : 17, accuracy: 0.9531999826431274\n",
            "Epoch : 18, accuracy: 0.9558999538421631\n",
            "Epoch : 19, accuracy: 0.9578999876976013\n",
            "Epoch : 20, accuracy: 0.9602999687194824\n",
            "Epoch : 21, accuracy: 0.9641000032424927\n",
            "Epoch : 22, accuracy: 0.9652999639511108\n",
            "Epoch : 23, accuracy: 0.9666000008583069\n",
            "Epoch : 24, accuracy: 0.9670999646186829\n",
            "Epoch : 25, accuracy: 0.9696999788284302\n",
            "Epoch : 26, accuracy: 0.9706999659538269\n",
            "Epoch : 27, accuracy: 0.9691999554634094\n",
            "Epoch : 28, accuracy: 0.9714999794960022\n",
            "Epoch : 29, accuracy: 0.9736999869346619\n",
            "Epoch : 30, accuracy: 0.973800003528595\n",
            "Epoch : 31, accuracy: 0.9750999808311462\n",
            "Epoch : 32, accuracy: 0.9739999771118164\n",
            "Epoch : 33, accuracy: 0.97489994764328\n",
            "Epoch : 34, accuracy: 0.9763999581336975\n",
            "Epoch : 35, accuracy: 0.9752999544143677\n",
            "Epoch : 36, accuracy: 0.977400004863739\n",
            "Epoch : 37, accuracy: 0.977400004863739\n",
            "Epoch : 38, accuracy: 0.9785999655723572\n",
            "Epoch : 39, accuracy: 0.9781000018119812\n",
            "Epoch : 40, accuracy: 0.9795999526977539\n",
            "Epoch : 41, accuracy: 0.9785999655723572\n",
            "Epoch : 42, accuracy: 0.9795999526977539\n",
            "Epoch : 43, accuracy: 0.9797999858856201\n",
            "Epoch : 44, accuracy: 0.9811999797821045\n",
            "Epoch : 45, accuracy: 0.98089998960495\n",
            "Epoch : 46, accuracy: 0.98089998960495\n",
            "Epoch : 47, accuracy: 0.9815999865531921\n",
            "Epoch : 48, accuracy: 0.9807999730110168\n",
            "Epoch : 49, accuracy: 0.981499969959259\n",
            "Epoch : 50, accuracy: 0.9809999465942383\n",
            "Epoch : 51, accuracy: 0.9820999503135681\n",
            "Epoch : 52, accuracy: 0.9835000038146973\n",
            "Epoch : 53, accuracy: 0.9817999601364136\n",
            "Epoch : 54, accuracy: 0.9820999503135681\n",
            "Epoch : 55, accuracy: 0.9828999638557434\n",
            "Epoch : 56, accuracy: 0.9835999608039856\n",
            "Epoch : 57, accuracy: 0.983299970626831\n",
            "Epoch : 58, accuracy: 0.983299970626831\n",
            "Epoch : 59, accuracy: 0.9836999773979187\n",
            "Epoch : 60, accuracy: 0.9835999608039856\n",
            "Epoch : 61, accuracy: 0.9845999479293823\n",
            "Epoch : 62, accuracy: 0.9833999872207642\n",
            "Epoch : 63, accuracy: 0.9842000007629395\n",
            "Epoch : 64, accuracy: 0.9846999645233154\n",
            "Epoch : 65, accuracy: 0.9840999841690063\n",
            "Epoch : 66, accuracy: 0.9839999675750732\n",
            "Epoch : 67, accuracy: 0.9847999811172485\n",
            "Epoch : 68, accuracy: 0.9836999773979187\n",
            "Epoch : 69, accuracy: 0.9845999479293823\n",
            "Epoch : 70, accuracy: 0.9854999780654907\n",
            "Epoch : 71, accuracy: 0.9843999743461609\n",
            "Epoch : 72, accuracy: 0.98499995470047\n",
            "Epoch : 73, accuracy: 0.9851999878883362\n",
            "Epoch : 74, accuracy: 0.9850999712944031\n",
            "Epoch : 75, accuracy: 0.9845999479293823\n",
            "Epoch : 76, accuracy: 0.9851999878883362\n",
            "Epoch : 77, accuracy: 0.9860000014305115\n",
            "Epoch : 78, accuracy: 0.9846999645233154\n",
            "Epoch : 79, accuracy: 0.9847999811172485\n",
            "Epoch : 80, accuracy: 0.9856999516487122\n",
            "Epoch : 81, accuracy: 0.9853999614715576\n",
            "Epoch : 82, accuracy: 0.9860999584197998\n",
            "Epoch : 83, accuracy: 0.9860000014305115\n",
            "Epoch : 84, accuracy: 0.9861999750137329\n",
            "Epoch : 85, accuracy: 0.9858999848365784\n",
            "Epoch : 86, accuracy: 0.9863999485969543\n",
            "Epoch : 87, accuracy: 0.9860000014305115\n",
            "Epoch : 88, accuracy: 0.9857999682426453\n",
            "Epoch : 89, accuracy: 0.986799955368042\n",
            "Epoch : 90, accuracy: 0.9863999485969543\n",
            "Epoch : 91, accuracy: 0.98499995470047\n",
            "Epoch : 92, accuracy: 0.9860000014305115\n",
            "Epoch : 93, accuracy: 0.9868999719619751\n",
            "Epoch : 94, accuracy: 0.9861999750137329\n",
            "Epoch : 95, accuracy: 0.9857999682426453\n",
            "Epoch : 96, accuracy: 0.9872999787330627\n",
            "Epoch : 97, accuracy: 0.9869999885559082\n",
            "Epoch : 98, accuracy: 0.9863999485969543\n",
            "Epoch : 99, accuracy: 0.9856999516487122\n",
            "Max test accuracy : 0.9872999787330627\n"
          ]
        },
        {
          "output_type": "display_data",
          "data": {
            "text/plain": [
              "<Figure size 432x288 with 1 Axes>"
            ],
            "image/png": "[encoded data removed]"
          },
          "metadata": {
            "needs_background": "light"
          }
        }
      ],
      "source": [
        "lenet5 = LeNet5(7).to(device)\n",
        "optimizer = torch.optim.Adam(lenet5.parameters(), lr=0.001)\n",
        "train(lenet5,optimizer,\n",
        "        X_train,y_train,\n",
        "        X_test,y_test, \n",
        "        device, \n",
        "        batch_size = 10240,\n",
        "        n_epochs = 100)"
      ]
    },
    {
      "cell_type": "markdown",
      "id": "8e3928e2-6a41-4b99-b8c5-76c285a8884e",
      "metadata": {
        "id": "8e3928e2-6a41-4b99-b8c5-76c285a8884e"
      },
      "source": [
        "Изменение количества слоёв не дало результата в увеличении точности"
      ]
    },
    {
      "cell_type": "code",
      "execution_count": 22,
      "id": "2c77d3d7-a914-4fb2-8157-fec6933c293c",
      "metadata": {
        "colab": {
          "base_uri": "https://localhost:8080/",
          "height": 648
        },
        "id": "2c77d3d7-a914-4fb2-8157-fec6933c293c",
        "outputId": "da0aca65-8b5a-47bc-99d4-e1feed94152a"
      },
      "outputs": [
        {
          "output_type": "stream",
          "name": "stdout",
          "text": [
            "Epoch : 0, accuracy: 0.541700005531311\n",
            "Epoch : 1, accuracy: 0.5509999990463257\n",
            "Epoch : 2, accuracy: 0.6383000016212463\n",
            "Epoch : 3, accuracy: 0.7756999731063843\n",
            "Epoch : 4, accuracy: 0.8463000059127808\n",
            "Epoch : 5, accuracy: 0.8892999887466431\n",
            "Epoch : 6, accuracy: 0.9053999781608582\n",
            "Epoch : 7, accuracy: 0.918999969959259\n",
            "Epoch : 8, accuracy: 0.9267999529838562\n",
            "Epoch : 9, accuracy: 0.936199963092804\n",
            "Epoch : 10, accuracy: 0.9426999688148499\n",
            "Epoch : 11, accuracy: 0.9483999609947205\n",
            "Epoch : 12, accuracy: 0.9519000053405762\n",
            "Epoch : 13, accuracy: 0.9547999501228333\n",
            "Epoch : 14, accuracy: 0.9587000012397766\n",
            "Epoch : 15, accuracy: 0.961899995803833\n",
            "Epoch : 16, accuracy: 0.9645999670028687\n",
            "Epoch : 17, accuracy: 0.9651999473571777\n",
            "Epoch : 18, accuracy: 0.9663999676704407\n",
            "Epoch : 19, accuracy: 0.9684999585151672\n",
            "Max test accuracy : 0.9684999585151672\n"
          ]
        },
        {
          "output_type": "display_data",
          "data": {
            "text/plain": [
              "<Figure size 432x288 with 1 Axes>"
            ],
            "image/png": "[encoded data removed]"
          },
          "metadata": {
            "needs_background": "light"
          }
        }
      ],
      "source": [
        "lenet5 = LeNet5().to(device)\n",
        "optimizer = torch.optim.Adam(lenet5.parameters(), lr=0.001)\n",
        "train(lenet5,optimizer,\n",
        "        X_train,y_train,\n",
        "        X_test,y_test, \n",
        "        device, \n",
        "        batch_size = 10240,\n",
        "        n_epochs = 20)"
      ]
    },
    {
      "cell_type": "code",
      "execution_count": 23,
      "id": "298a081a-de64-4f17-801e-bc6b1ef0fa06",
      "metadata": {
        "colab": {
          "base_uri": "https://localhost:8080/",
          "height": 650
        },
        "id": "298a081a-de64-4f17-801e-bc6b1ef0fa06",
        "outputId": "905ff285-d099-4607-f101-7934f5f6e336"
      },
      "outputs": [
        {
          "output_type": "stream",
          "name": "stdout",
          "text": [
            "Epoch : 0, accuracy: 0.7918999791145325\n",
            "Epoch : 1, accuracy: 0.8940999507904053\n",
            "Epoch : 2, accuracy: 0.9382999539375305\n",
            "Epoch : 3, accuracy: 0.9562000036239624\n",
            "Epoch : 4, accuracy: 0.9646999835968018\n",
            "Epoch : 5, accuracy: 0.9710999727249146\n",
            "Epoch : 6, accuracy: 0.97489994764328\n",
            "Epoch : 7, accuracy: 0.977400004863739\n",
            "Epoch : 8, accuracy: 0.9803999662399292\n",
            "Epoch : 9, accuracy: 0.9815999865531921\n",
            "Epoch : 10, accuracy: 0.9835000038146973\n",
            "Epoch : 11, accuracy: 0.9838999509811401\n",
            "Epoch : 12, accuracy: 0.983299970626831\n",
            "Epoch : 13, accuracy: 0.9850999712944031\n",
            "Epoch : 14, accuracy: 0.9839999675750732\n",
            "Epoch : 15, accuracy: 0.98499995470047\n",
            "Epoch : 16, accuracy: 0.9861999750137329\n",
            "Epoch : 17, accuracy: 0.986299991607666\n",
            "Epoch : 18, accuracy: 0.9855999946594238\n",
            "Epoch : 19, accuracy: 0.9871999621391296\n",
            "Max test accuracy : 0.9871999621391296\n"
          ]
        },
        {
          "output_type": "display_data",
          "data": {
            "text/plain": [
              "<Figure size 432x288 with 1 Axes>"
            ],
            "image/png": "[encoded data removed]"
          },
          "metadata": {
            "needs_background": "light"
          }
        }
      ],
      "source": [
        "lenet5 = LeNet5().to(device)\n",
        "optimizer = torch.optim.Adam(lenet5.parameters(), lr=0.01)\n",
        "train(lenet5,optimizer,\n",
        "        X_train,y_train,\n",
        "        X_test,y_test, \n",
        "        device, \n",
        "        batch_size = 10240,\n",
        "        n_epochs = 20)"
      ]
    },
    {
      "cell_type": "markdown",
      "id": "6984386a-6ff5-48a3-bbe6-64f02cbcc258",
      "metadata": {
        "id": "6984386a-6ff5-48a3-bbe6-64f02cbcc258"
      },
      "source": [
        "Изменение шага lr в 10 раз дало увеличение точности на 2%"
      ]
    },
    {
      "cell_type": "code",
      "execution_count": 27,
      "id": "b8f423a9-fdd3-447e-ae00-43a739a2486f",
      "metadata": {
        "colab": {
          "base_uri": "https://localhost:8080/",
          "height": 648
        },
        "id": "b8f423a9-fdd3-447e-ae00-43a739a2486f",
        "outputId": "b208fa9b-59f1-4167-885f-7de6dc845388"
      },
      "outputs": [
        {
          "output_type": "stream",
          "name": "stdout",
          "text": [
            "Epoch : 0, accuracy: 0.5877999663352966\n",
            "Epoch : 1, accuracy: 0.564300000667572\n",
            "Epoch : 2, accuracy: 0.6626999974250793\n",
            "Epoch : 3, accuracy: 0.7116000056266785\n",
            "Epoch : 4, accuracy: 0.7804999947547913\n",
            "Epoch : 5, accuracy: 0.8113999962806702\n",
            "Epoch : 6, accuracy: 0.8399999737739563\n",
            "Epoch : 7, accuracy: 0.8676999807357788\n",
            "Epoch : 8, accuracy: 0.8872999548912048\n",
            "Epoch : 9, accuracy: 0.9039999842643738\n",
            "Epoch : 10, accuracy: 0.9156999588012695\n",
            "Epoch : 11, accuracy: 0.9243999719619751\n",
            "Epoch : 12, accuracy: 0.935699999332428\n",
            "Epoch : 13, accuracy: 0.9405999779701233\n",
            "Epoch : 14, accuracy: 0.9459999799728394\n",
            "Epoch : 15, accuracy: 0.9497999548912048\n",
            "Epoch : 16, accuracy: 0.9539999961853027\n",
            "Epoch : 17, accuracy: 0.9580000042915344\n",
            "Epoch : 18, accuracy: 0.9601999521255493\n",
            "Epoch : 19, accuracy: 0.9633999466896057\n",
            "Max test accuracy : 0.9633999466896057\n"
          ]
        },
        {
          "output_type": "display_data",
          "data": {
            "text/plain": [
              "<Figure size 432x288 with 1 Axes>"
            ],
            "image/png": "[encoded data removed]"
          },
          "metadata": {
            "needs_background": "light"
          }
        }
      ],
      "source": [
        "lenet5 = LeNet5(3,'tanh', 'average').to(device)\n",
        "optimizer = torch.optim.Adam(lenet5.parameters(), lr=0.001)\n",
        "train(lenet5,optimizer,\n",
        "        X_train,y_train,\n",
        "        X_test,y_test, \n",
        "        device, \n",
        "        batch_size = 10240,\n",
        "        n_epochs = 20)"
      ]
    },
    {
      "cell_type": "code",
      "execution_count": 28,
      "id": "7b1b2bff-58fc-4429-92bf-3c5d78c87ab6",
      "metadata": {
        "colab": {
          "base_uri": "https://localhost:8080/",
          "height": 648
        },
        "id": "7b1b2bff-58fc-4429-92bf-3c5d78c87ab6",
        "outputId": "7fb1216d-ce44-48c3-da2e-6aa321c36b62"
      },
      "outputs": [
        {
          "output_type": "stream",
          "name": "stdout",
          "text": [
            "Epoch : 0, accuracy: 0.5408999919891357\n",
            "Epoch : 1, accuracy: 0.555400013923645\n",
            "Epoch : 2, accuracy: 0.6688999533653259\n",
            "Epoch : 3, accuracy: 0.7597000002861023\n",
            "Epoch : 4, accuracy: 0.8047999739646912\n",
            "Epoch : 5, accuracy: 0.839199960231781\n",
            "Epoch : 6, accuracy: 0.8685999512672424\n",
            "Epoch : 7, accuracy: 0.890999972820282\n",
            "Epoch : 8, accuracy: 0.9048999547958374\n",
            "Epoch : 9, accuracy: 0.9147999882698059\n",
            "Epoch : 10, accuracy: 0.9239999651908875\n",
            "Epoch : 11, accuracy: 0.9328999519348145\n",
            "Epoch : 12, accuracy: 0.9404999613761902\n",
            "Epoch : 13, accuracy: 0.9472999572753906\n",
            "Epoch : 14, accuracy: 0.9519999623298645\n",
            "Epoch : 15, accuracy: 0.9546999931335449\n",
            "Epoch : 16, accuracy: 0.9580999612808228\n",
            "Epoch : 17, accuracy: 0.9594999551773071\n",
            "Epoch : 18, accuracy: 0.9620999693870544\n",
            "Epoch : 19, accuracy: 0.9626999497413635\n",
            "Max test accuracy : 0.9626999497413635\n"
          ]
        },
        {
          "output_type": "display_data",
          "data": {
            "text/plain": [
              "<Figure size 432x288 with 1 Axes>"
            ],
            "image/png": "[encoded data removed]"
          },
          "metadata": {
            "needs_background": "light"
          }
        }
      ],
      "source": [
        "lenet5 = LeNet5(3,'tanh', 'max').to(device)\n",
        "optimizer = torch.optim.Adam(lenet5.parameters(), lr=0.001)\n",
        "train(lenet5,optimizer,\n",
        "        X_train,y_train,\n",
        "        X_test,y_test, \n",
        "        device, \n",
        "        batch_size = 10240,\n",
        "        n_epochs = 20)"
      ]
    },
    {
      "cell_type": "markdown",
      "id": "265f83a8-6d63-4d88-97d8-0dbac64e8c6f",
      "metadata": {
        "id": "265f83a8-6d63-4d88-97d8-0dbac64e8c6f"
      },
      "source": [
        "Разница между типами пулинга не дала заметного прироста точности"
      ]
    },
    {
      "cell_type": "markdown",
      "source": [
        "Задание 4"
      ],
      "metadata": {
        "id": "b8xiztKu763z"
      },
      "id": "b8xiztKu763z"
    },
    {
      "cell_type": "code",
      "execution_count": 34,
      "id": "2b8bc6cb-bd14-451e-b222-dd59c92dd6ab",
      "metadata": {
        "colab": {
          "base_uri": "https://localhost:8080/",
          "height": 1000
        },
        "id": "2b8bc6cb-bd14-451e-b222-dd59c92dd6ab",
        "outputId": "918738c0-457b-42bf-c9a1-4262813dde14"
      },
      "outputs": [
        {
          "output_type": "stream",
          "name": "stdout",
          "text": [
            "Epoch : 0, accuracy: 0.9035999774932861\n",
            "Epoch : 1, accuracy: 0.9473999738693237\n",
            "Epoch : 2, accuracy: 0.965999960899353\n",
            "Epoch : 3, accuracy: 0.9729999899864197\n",
            "Epoch : 4, accuracy: 0.975600004196167\n",
            "Epoch : 5, accuracy: 0.9797999858856201\n",
            "Epoch : 6, accuracy: 0.9805999994277954\n",
            "Epoch : 7, accuracy: 0.9821999669075012\n",
            "Epoch : 8, accuracy: 0.9837999939918518\n",
            "Epoch : 9, accuracy: 0.9847999811172485\n",
            "Epoch : 10, accuracy: 0.9856999516487122\n",
            "Epoch : 11, accuracy: 0.9854999780654907\n",
            "Epoch : 12, accuracy: 0.9857999682426453\n",
            "Epoch : 13, accuracy: 0.9874999523162842\n",
            "Epoch : 14, accuracy: 0.9869999885559082\n",
            "Epoch : 15, accuracy: 0.9865999817848206\n",
            "Epoch : 16, accuracy: 0.9866999983787537\n",
            "Epoch : 17, accuracy: 0.9873999953269958\n",
            "Epoch : 18, accuracy: 0.9868999719619751\n",
            "Epoch : 19, accuracy: 0.9874999523162842\n",
            "Max test accuracy : 0.9874999523162842\n",
            "Epoch : 0, accuracy: 0.8981000185012817\n",
            "Epoch : 1, accuracy: 0.949999988079071\n",
            "Epoch : 2, accuracy: 0.9682000279426575\n",
            "Epoch : 3, accuracy: 0.9750999808311462\n",
            "Epoch : 4, accuracy: 0.9787999987602234\n",
            "Epoch : 5, accuracy: 0.9822999835014343\n",
            "Epoch : 6, accuracy: 0.9843000173568726\n",
            "Epoch : 7, accuracy: 0.9857000112533569\n",
            "Epoch : 8, accuracy: 0.9865000247955322\n",
            "Epoch : 9, accuracy: 0.9868999719619751\n",
            "Epoch : 10, accuracy: 0.9886999726295471\n",
            "Epoch : 11, accuracy: 0.9883999824523926\n",
            "Epoch : 12, accuracy: 0.9876000285148621\n",
            "Epoch : 13, accuracy: 0.9894999861717224\n",
            "Epoch : 14, accuracy: 0.9883000254631042\n",
            "Epoch : 15, accuracy: 0.9904000163078308\n",
            "Epoch : 16, accuracy: 0.9889000058174133\n",
            "Epoch : 17, accuracy: 0.989799976348877\n",
            "Epoch : 18, accuracy: 0.9894999861717224\n",
            "Epoch : 19, accuracy: 0.9897000193595886\n",
            "Max test accuracy : 0.9904000163078308\n",
            "gpu training takes 31.662452936172485\n",
            "cpu training takes 365.84976077079773\n"
          ]
        },
        {
          "output_type": "display_data",
          "data": {
            "text/plain": [
              "<Figure size 432x288 with 1 Axes>"
            ],
            "image/png": "[encoded data removed]"
          },
          "metadata": {
            "needs_background": "light"
          }
        },
        {
          "output_type": "display_data",
          "data": {
            "text/plain": [
              "<Figure size 432x288 with 1 Axes>"
            ],
            "image/png": "[encoded data removed]"
          },
          "metadata": {
            "needs_background": "light"
          }
        }
      ],
      "source": [
        "from time import time\n",
        "lenet5 = LeNet5().to(device)\n",
        "optimizer = torch.optim.Adam(lenet5.parameters(), lr=0.001)\n",
        "start_gpu = time()\n",
        "\n",
        "train(lenet5,optimizer,\n",
        "        X_train,y_train,\n",
        "        X_test,y_test, \n",
        "        device, \n",
        "        batch_size = 1024,\n",
        "        n_epochs = 20)\n",
        "finish_gpu = time()\n",
        "\n",
        "lenet5 = LeNet5().to('cpu')\n",
        "optimizer = torch.optim.Adam(lenet5.parameters(), lr=0.001)\n",
        "\n",
        "start_cpu = time()\n",
        "train(lenet5,optimizer,\n",
        "      X_train.cpu(),y_train.cpu(),\n",
        "      X_test.cpu(),y_test.cpu(), \n",
        "      'cpu', \n",
        "      batch_size = 1024,\n",
        "      n_epochs = 20)\n",
        "\n",
        "finish_cpu = time()\n",
        "\n",
        "print(f'gpu training takes {finish_gpu - start_gpu}')\n",
        "print(f'cpu training takes {finish_cpu - start_cpu}')"
      ]
    },
    {
      "cell_type": "markdown",
      "id": "31b1db7f-8d40-4060-a7aa-7d3654937938",
      "metadata": {
        "id": "31b1db7f-8d40-4060-a7aa-7d3654937938"
      },
      "source": [
        "Время тренировки на GPU в 12 раз меньше времени тренировки на CPU"
      ]
    },
    {
      "cell_type": "markdown",
      "id": "0ea02706-2373-42e9-9800-51212b26f754",
      "metadata": {
        "id": "0ea02706-2373-42e9-9800-51212b26f754"
      },
      "source": [
        "Задание 5"
      ]
    },
    {
      "cell_type": "code",
      "execution_count": 36,
      "id": "c381f7c0-ba1a-4b24-bb1a-8570c04db2fe",
      "metadata": {
        "colab": {
          "base_uri": "https://localhost:8080/",
          "height": 1000
        },
        "id": "c381f7c0-ba1a-4b24-bb1a-8570c04db2fe",
        "outputId": "0a07b1b7-b6fb-4113-e64b-cfd6a24a47cd"
      },
      "outputs": [
        {
          "output_type": "stream",
          "name": "stdout",
          "text": [
            "Epoch : 0, accuracy: 0.6916999816894531\n",
            "Epoch : 1, accuracy: 0.6650999784469604\n",
            "Epoch : 2, accuracy: 0.7085999846458435\n",
            "Epoch : 3, accuracy: 0.7803999781608582\n",
            "Epoch : 4, accuracy: 0.849399983882904\n",
            "Epoch : 5, accuracy: 0.873199999332428\n",
            "Epoch : 6, accuracy: 0.8892999887466431\n",
            "Epoch : 7, accuracy: 0.9006999731063843\n",
            "Epoch : 8, accuracy: 0.9091999530792236\n",
            "Epoch : 9, accuracy: 0.918999969959259\n",
            "Epoch : 10, accuracy: 0.9249999523162842\n",
            "Epoch : 11, accuracy: 0.9309999942779541\n",
            "Epoch : 12, accuracy: 0.9348999857902527\n",
            "Epoch : 13, accuracy: 0.9404999613761902\n",
            "Epoch : 14, accuracy: 0.9458999633789062\n",
            "Epoch : 15, accuracy: 0.9495999813079834\n",
            "Epoch : 16, accuracy: 0.9541999697685242\n",
            "Epoch : 17, accuracy: 0.9577999711036682\n",
            "Epoch : 18, accuracy: 0.9602999687194824\n",
            "Epoch : 19, accuracy: 0.9645999670028687\n",
            "Epoch : 20, accuracy: 0.9666999578475952\n",
            "Epoch : 21, accuracy: 0.967799961566925\n",
            "Epoch : 22, accuracy: 0.9696999788284302\n",
            "Epoch : 23, accuracy: 0.9710999727249146\n",
            "Epoch : 24, accuracy: 0.972599983215332\n",
            "Epoch : 25, accuracy: 0.973800003528595\n",
            "Epoch : 26, accuracy: 0.9746999740600586\n",
            "Epoch : 27, accuracy: 0.9757999777793884\n",
            "Epoch : 28, accuracy: 0.976099967956543\n",
            "Epoch : 29, accuracy: 0.9767999649047852\n",
            "Epoch : 30, accuracy: 0.9775999784469604\n",
            "Epoch : 31, accuracy: 0.9777999520301819\n",
            "Epoch : 32, accuracy: 0.9790999889373779\n",
            "Epoch : 33, accuracy: 0.9788999557495117\n",
            "Epoch : 34, accuracy: 0.9794999957084656\n",
            "Epoch : 35, accuracy: 0.979699969291687\n",
            "Epoch : 36, accuracy: 0.9805999994277954\n",
            "Epoch : 37, accuracy: 0.9811999797821045\n",
            "Epoch : 38, accuracy: 0.9810999631881714\n",
            "Epoch : 39, accuracy: 0.9813999533653259\n",
            "Epoch : 40, accuracy: 0.9817000031471252\n",
            "Epoch : 41, accuracy: 0.9828999638557434\n",
            "Epoch : 42, accuracy: 0.9835000038146973\n",
            "Epoch : 43, accuracy: 0.9838999509811401\n",
            "Epoch : 44, accuracy: 0.9839999675750732\n",
            "Epoch : 45, accuracy: 0.9837999939918518\n",
            "Epoch : 46, accuracy: 0.984499990940094\n",
            "Epoch : 47, accuracy: 0.9842000007629395\n",
            "Epoch : 48, accuracy: 0.9842999577522278\n",
            "Epoch : 49, accuracy: 0.9846999645233154\n",
            "Epoch : 50, accuracy: 0.9853999614715576\n",
            "Epoch : 51, accuracy: 0.9846999645233154\n",
            "Epoch : 52, accuracy: 0.9848999977111816\n",
            "Epoch : 53, accuracy: 0.9853999614715576\n",
            "Epoch : 54, accuracy: 0.9857999682426453\n",
            "Epoch : 55, accuracy: 0.9850999712944031\n",
            "Epoch : 56, accuracy: 0.9857999682426453\n",
            "Epoch : 57, accuracy: 0.9860999584197998\n",
            "Epoch : 58, accuracy: 0.9855999946594238\n",
            "Epoch : 59, accuracy: 0.9870999455451965\n",
            "Epoch : 60, accuracy: 0.9864999651908875\n",
            "Epoch : 61, accuracy: 0.9869999885559082\n",
            "Epoch : 62, accuracy: 0.9870999455451965\n",
            "Epoch : 63, accuracy: 0.9876999855041504\n",
            "Epoch : 64, accuracy: 0.9871999621391296\n",
            "Epoch : 65, accuracy: 0.9876999855041504\n",
            "Epoch : 66, accuracy: 0.9874999523162842\n",
            "Epoch : 67, accuracy: 0.9883999824523926\n",
            "Epoch : 68, accuracy: 0.9884999990463257\n",
            "Epoch : 69, accuracy: 0.9879999756813049\n",
            "Epoch : 70, accuracy: 0.9884999990463257\n",
            "Epoch : 71, accuracy: 0.988599956035614\n",
            "Epoch : 72, accuracy: 0.9879999756813049\n",
            "Epoch : 73, accuracy: 0.9886999726295471\n",
            "Epoch : 74, accuracy: 0.9884999990463257\n",
            "Epoch : 75, accuracy: 0.9886999726295471\n",
            "Epoch : 76, accuracy: 0.9892999529838562\n",
            "Epoch : 77, accuracy: 0.9887999892234802\n",
            "Epoch : 78, accuracy: 0.9887999892234802\n",
            "Epoch : 79, accuracy: 0.9887999892234802\n",
            "Epoch : 80, accuracy: 0.9890999794006348\n",
            "Epoch : 81, accuracy: 0.9894999861717224\n",
            "Epoch : 82, accuracy: 0.9890999794006348\n",
            "Epoch : 83, accuracy: 0.9893999695777893\n",
            "Epoch : 84, accuracy: 0.9896999597549438\n",
            "Epoch : 85, accuracy: 0.9901999831199646\n",
            "Epoch : 86, accuracy: 0.9896000027656555\n",
            "Epoch : 87, accuracy: 0.9896000027656555\n",
            "Epoch : 88, accuracy: 0.989799976348877\n",
            "Epoch : 89, accuracy: 0.9899999499320984\n",
            "Epoch : 90, accuracy: 0.989799976348877\n",
            "Epoch : 91, accuracy: 0.9900999665260315\n",
            "Epoch : 92, accuracy: 0.9896000027656555\n",
            "Epoch : 93, accuracy: 0.9904999732971191\n",
            "Epoch : 94, accuracy: 0.9899999499320984\n",
            "Epoch : 95, accuracy: 0.9905999898910522\n",
            "Epoch : 96, accuracy: 0.9902999997138977\n",
            "Epoch : 97, accuracy: 0.9901999831199646\n",
            "Epoch : 98, accuracy: 0.9905999898910522\n",
            "Epoch : 99, accuracy: 0.9902999997138977\n",
            "Epoch : 100, accuracy: 0.9898999929428101\n",
            "Epoch : 101, accuracy: 0.9896999597549438\n",
            "Epoch : 102, accuracy: 0.9904999732971191\n",
            "Epoch : 103, accuracy: 0.9904999732971191\n",
            "Epoch : 104, accuracy: 0.9905999898910522\n",
            "Epoch : 105, accuracy: 0.9905999898910522\n",
            "Epoch : 106, accuracy: 0.9908999800682068\n",
            "Epoch : 107, accuracy: 0.9907999634742737\n",
            "Epoch : 108, accuracy: 0.9902999997138977\n",
            "Epoch : 109, accuracy: 0.9906999468803406\n",
            "Epoch : 110, accuracy: 0.9906999468803406\n",
            "Epoch : 111, accuracy: 0.9909999966621399\n",
            "Epoch : 112, accuracy: 0.9909999966621399\n",
            "Epoch : 113, accuracy: 0.9909999966621399\n",
            "Epoch : 114, accuracy: 0.9905999898910522\n",
            "Epoch : 115, accuracy: 0.9901999831199646\n",
            "Epoch : 116, accuracy: 0.9902999997138977\n",
            "Epoch : 117, accuracy: 0.9908999800682068\n",
            "Epoch : 118, accuracy: 0.9908999800682068\n",
            "Epoch : 119, accuracy: 0.9912999868392944\n",
            "Epoch : 120, accuracy: 0.9906999468803406\n",
            "Epoch : 121, accuracy: 0.9902999997138977\n",
            "Epoch : 122, accuracy: 0.9908999800682068\n",
            "Epoch : 123, accuracy: 0.9910999536514282\n",
            "Epoch : 124, accuracy: 0.9906999468803406\n",
            "Epoch : 125, accuracy: 0.9910999536514282\n",
            "Epoch : 126, accuracy: 0.9906999468803406\n",
            "Epoch : 127, accuracy: 0.9902999997138977\n",
            "Epoch : 128, accuracy: 0.9907999634742737\n",
            "Epoch : 129, accuracy: 0.9905999898910522\n",
            "Epoch : 130, accuracy: 0.9907999634742737\n",
            "Epoch : 131, accuracy: 0.9906999468803406\n",
            "Epoch : 132, accuracy: 0.9906999468803406\n",
            "Epoch : 133, accuracy: 0.9910999536514282\n",
            "Epoch : 134, accuracy: 0.9905999898910522\n",
            "Epoch : 135, accuracy: 0.9908999800682068\n",
            "Epoch : 136, accuracy: 0.9906999468803406\n",
            "Epoch : 137, accuracy: 0.9906999468803406\n",
            "Epoch : 138, accuracy: 0.9905999898910522\n",
            "Epoch : 139, accuracy: 0.9906999468803406\n",
            "Epoch : 140, accuracy: 0.9901999831199646\n",
            "Epoch : 141, accuracy: 0.990399956703186\n",
            "Epoch : 142, accuracy: 0.9906999468803406\n",
            "Epoch : 143, accuracy: 0.9904999732971191\n",
            "Epoch : 144, accuracy: 0.9904999732971191\n",
            "Epoch : 145, accuracy: 0.990399956703186\n",
            "Epoch : 146, accuracy: 0.990399956703186\n",
            "Epoch : 147, accuracy: 0.9907999634742737\n",
            "Epoch : 148, accuracy: 0.9905999898910522\n",
            "Epoch : 149, accuracy: 0.9904999732971191\n",
            "Max test accuracy : 0.9912999868392944\n"
          ]
        },
        {
          "output_type": "display_data",
          "data": {
            "text/plain": [
              "<Figure size 432x288 with 1 Axes>"
            ],
            "image/png": "[encoded data removed]"
          },
          "metadata": {
            "needs_background": "light"
          }
        }
      ],
      "source": [
        "device = torch.device('cuda:0' if torch.cuda.is_available() else 'cpu')\n",
        "lenet5 = LeNet5().to(device)\n",
        "optimizer = torch.optim.Adam(lenet5.parameters(), lr=0.001)\n",
        "\n",
        "train(lenet5,optimizer, \n",
        "    X_train,y_train,\n",
        "    X_test,y_test, \n",
        "    device, \n",
        "    batch_size = 10240,\n",
        "    n_epochs = 150)"
      ]
    },
    {
      "cell_type": "markdown",
      "id": "b87cf628-242c-48ad-9192-016710731b33",
      "metadata": {
        "id": "b87cf628-242c-48ad-9192-016710731b33"
      },
      "source": [
        "Задание 6"
      ]
    },
    {
      "cell_type": "code",
      "execution_count": 40,
      "id": "3464ab70-c4d8-4806-9a1b-db07c8baf3cb",
      "metadata": {
        "colab": {
          "base_uri": "https://localhost:8080/",
          "height": 1000
        },
        "id": "3464ab70-c4d8-4806-9a1b-db07c8baf3cb",
        "outputId": "a8b47abc-d613-490b-d5be-bcd732316a2e"
      },
      "outputs": [
        {
          "output_type": "stream",
          "name": "stdout",
          "text": [
            "Epoch : 0, accuracy: 0.5708999633789062\n",
            "Epoch : 1, accuracy: 0.560699999332428\n",
            "Epoch : 2, accuracy: 0.6870999932289124\n",
            "Epoch : 3, accuracy: 0.7878999710083008\n",
            "Epoch : 4, accuracy: 0.8205999732017517\n",
            "Epoch : 5, accuracy: 0.850600004196167\n",
            "Epoch : 6, accuracy: 0.8772000074386597\n",
            "Epoch : 7, accuracy: 0.8988999724388123\n",
            "Epoch : 8, accuracy: 0.9154999852180481\n",
            "Epoch : 9, accuracy: 0.9268999695777893\n",
            "Epoch : 10, accuracy: 0.9351999759674072\n",
            "Epoch : 11, accuracy: 0.9417999982833862\n",
            "Epoch : 12, accuracy: 0.9466999769210815\n",
            "Epoch : 13, accuracy: 0.9528999924659729\n",
            "Epoch : 14, accuracy: 0.957099974155426\n",
            "Epoch : 15, accuracy: 0.9602999687194824\n",
            "Epoch : 16, accuracy: 0.9625999927520752\n",
            "Epoch : 17, accuracy: 0.9645999670028687\n",
            "Epoch : 18, accuracy: 0.9662999510765076\n",
            "Epoch : 19, accuracy: 0.9682999849319458\n",
            "Epoch : 20, accuracy: 0.9699999690055847\n",
            "Epoch : 21, accuracy: 0.9715999960899353\n",
            "Epoch : 22, accuracy: 0.9724999666213989\n",
            "Epoch : 23, accuracy: 0.9735999703407288\n",
            "Epoch : 24, accuracy: 0.9747999906539917\n",
            "Epoch : 25, accuracy: 0.9756999611854553\n",
            "Epoch : 26, accuracy: 0.976099967956543\n",
            "Epoch : 27, accuracy: 0.9769999980926514\n",
            "Epoch : 28, accuracy: 0.9776999950408936\n",
            "Epoch : 29, accuracy: 0.9781000018119812\n",
            "Epoch : 30, accuracy: 0.9779999852180481\n",
            "Epoch : 31, accuracy: 0.9784999489784241\n",
            "Epoch : 32, accuracy: 0.979699969291687\n",
            "Epoch : 33, accuracy: 0.979699969291687\n",
            "Epoch : 34, accuracy: 0.9805999994277954\n",
            "Epoch : 35, accuracy: 0.9806999564170837\n",
            "Epoch : 36, accuracy: 0.9810999631881714\n",
            "Epoch : 37, accuracy: 0.9811999797821045\n",
            "Epoch : 38, accuracy: 0.9820999503135681\n",
            "Epoch : 39, accuracy: 0.9828999638557434\n",
            "Epoch : 40, accuracy: 0.9821999669075012\n",
            "Epoch : 41, accuracy: 0.9822999835014343\n",
            "Epoch : 42, accuracy: 0.9830999970436096\n",
            "Epoch : 43, accuracy: 0.9833999872207642\n",
            "Epoch : 44, accuracy: 0.983199954032898\n",
            "Epoch : 45, accuracy: 0.983299970626831\n",
            "Epoch : 46, accuracy: 0.9842999577522278\n",
            "Epoch : 47, accuracy: 0.9842000007629395\n",
            "Epoch : 48, accuracy: 0.9850999712944031\n",
            "Epoch : 49, accuracy: 0.984499990940094\n",
            "Epoch : 50, accuracy: 0.9839999675750732\n",
            "Epoch : 51, accuracy: 0.9850999712944031\n",
            "Epoch : 52, accuracy: 0.98499995470047\n",
            "Epoch : 53, accuracy: 0.9856999516487122\n",
            "Epoch : 54, accuracy: 0.9848999977111816\n",
            "Epoch : 55, accuracy: 0.9850999712944031\n",
            "Epoch : 56, accuracy: 0.9854999780654907\n",
            "Epoch : 57, accuracy: 0.9853000044822693\n",
            "Epoch : 58, accuracy: 0.9857999682426453\n",
            "Epoch : 59, accuracy: 0.9860000014305115\n",
            "Epoch : 60, accuracy: 0.9863999485969543\n",
            "Epoch : 61, accuracy: 0.9864999651908875\n",
            "Epoch : 62, accuracy: 0.9864999651908875\n",
            "Epoch : 63, accuracy: 0.9858999848365784\n",
            "Epoch : 64, accuracy: 0.9863999485969543\n",
            "Epoch : 65, accuracy: 0.9863999485969543\n",
            "Epoch : 66, accuracy: 0.986799955368042\n",
            "Epoch : 67, accuracy: 0.9866999983787537\n",
            "Epoch : 68, accuracy: 0.986299991607666\n",
            "Epoch : 69, accuracy: 0.9864999651908875\n",
            "Epoch : 70, accuracy: 0.9865999817848206\n",
            "Epoch : 71, accuracy: 0.9864999651908875\n",
            "Epoch : 72, accuracy: 0.9870999455451965\n",
            "Epoch : 73, accuracy: 0.9866999983787537\n",
            "Epoch : 74, accuracy: 0.9871999621391296\n",
            "Epoch : 75, accuracy: 0.9873999953269958\n",
            "Epoch : 76, accuracy: 0.986799955368042\n",
            "Epoch : 77, accuracy: 0.9870999455451965\n",
            "Epoch : 78, accuracy: 0.9869999885559082\n",
            "Epoch : 79, accuracy: 0.9866999983787537\n",
            "Epoch : 80, accuracy: 0.9873999953269958\n",
            "Epoch : 81, accuracy: 0.9870999455451965\n",
            "Epoch : 82, accuracy: 0.9868999719619751\n",
            "Epoch : 83, accuracy: 0.9869999885559082\n",
            "Epoch : 84, accuracy: 0.9871999621391296\n",
            "Epoch : 85, accuracy: 0.9872999787330627\n",
            "Epoch : 86, accuracy: 0.986799955368042\n",
            "Epoch : 87, accuracy: 0.9873999953269958\n",
            "Epoch : 88, accuracy: 0.9872999787330627\n",
            "Epoch : 89, accuracy: 0.9869999885559082\n",
            "Epoch : 90, accuracy: 0.9872999787330627\n",
            "Epoch : 91, accuracy: 0.9881999492645264\n",
            "Epoch : 92, accuracy: 0.9870999455451965\n",
            "Epoch : 93, accuracy: 0.9870999455451965\n",
            "Epoch : 94, accuracy: 0.9878000020980835\n",
            "Epoch : 95, accuracy: 0.9874999523162842\n",
            "Epoch : 96, accuracy: 0.9876999855041504\n",
            "Epoch : 97, accuracy: 0.9876999855041504\n",
            "Epoch : 98, accuracy: 0.9875999689102173\n",
            "Epoch : 99, accuracy: 0.9878999590873718\n",
            "Max test accuracy : 0.9881999492645264\n"
          ]
        },
        {
          "output_type": "display_data",
          "data": {
            "text/plain": [
              "<Figure size 432x288 with 1 Axes>"
            ],
            "image/png": "[encoded data removed]"
          },
          "metadata": {
            "needs_background": "light"
          }
        }
      ],
      "source": [
        "lenet5 = LeNet5().to(device)\n",
        "optimizer = torch.optim.Adam(lenet5.parameters(), lr=0.001)\n",
        "start_gpu = time()\n",
        "\n",
        "train(lenet5,optimizer,\n",
        "    X_train,y_train,\n",
        "    X_test,y_test, \n",
        "    device, \n",
        "    batch_size = 10240,\n",
        "    n_epochs = 100)"
      ]
    },
    {
      "cell_type": "code",
      "execution_count": 41,
      "id": "4484c27b-0d20-48b4-9f6b-337cde58fa86",
      "metadata": {
        "colab": {
          "base_uri": "https://localhost:8080/",
          "height": 284
        },
        "id": "4484c27b-0d20-48b4-9f6b-337cde58fa86",
        "outputId": "7ef0d0c3-cd75-44c0-a7bf-1b2cc5aae9ec"
      },
      "outputs": [
        {
          "output_type": "display_data",
          "data": {
            "text/plain": [
              "<Figure size 432x288 with 1 Axes>"
            ],
            "image/png": "[encoded data removed]"
          },
          "metadata": {
            "needs_background": "light"
          }
        },
        {
          "output_type": "stream",
          "name": "stdout",
          "text": [
            "tensor(1)\n"
          ]
        }
      ],
      "source": [
        "plt.imshow(X_test[2][0].cpu())\n",
        "plt.show()\n",
        "print(y_test[2])"
      ]
    },
    {
      "cell_type": "code",
      "execution_count": 43,
      "id": "966d2e95-c101-4b89-b7aa-9ad9959e409f",
      "metadata": {
        "colab": {
          "base_uri": "https://localhost:8080/"
        },
        "id": "966d2e95-c101-4b89-b7aa-9ad9959e409f",
        "outputId": "16d9c3d6-b83f-466f-d20b-b8d028a9de6b"
      },
      "outputs": [
        {
          "output_type": "execute_result",
          "data": {
            "text/plain": [
              "1"
            ]
          },
          "metadata": {},
          "execution_count": 43
        }
      ],
      "source": [
        "lenet5.forward(X_test[2].unsqueeze(0).cuda()).argmax(1).item()"
      ]
    },
    {
      "cell_type": "code",
      "execution_count": 44,
      "id": "bbab44ee-650f-40ea-b0bd-335215219f1e",
      "metadata": {
        "colab": {
          "base_uri": "https://localhost:8080/",
          "height": 302
        },
        "id": "bbab44ee-650f-40ea-b0bd-335215219f1e",
        "outputId": "0a40993a-6458-4867-a62d-066b9c28c088"
      },
      "outputs": [
        {
          "output_type": "display_data",
          "data": {
            "text/plain": [
              "<Figure size 432x288 with 1 Axes>"
            ],
            "image/png": "[encoded data removed]"
          },
          "metadata": {
            "needs_background": "light"
          }
        },
        {
          "output_type": "stream",
          "name": "stdout",
          "text": [
            "tensor(6)\n"
          ]
        },
        {
          "output_type": "execute_result",
          "data": {
            "text/plain": [
              "6"
            ]
          },
          "metadata": {},
          "execution_count": 44
        }
      ],
      "source": [
        "plt.imshow(X_test[22][0].cpu())\n",
        "plt.show()\n",
        "print(y_test[22])\n",
        "\n",
        "lenet5.forward(X_test[22].unsqueeze(0).cuda()).argmax(1).item()"
      ]
    },
    {
      "cell_type": "markdown",
      "source": [
        "Созданная сеть успешно справляется с распознаванием изображений"
      ],
      "metadata": {
        "id": "C4P3c3RSBfUH"
      },
      "id": "C4P3c3RSBfUH"
    }
  ],
  "metadata": {
    "kernelspec": {
      "display_name": "Python 3 (ipykernel)",
      "language": "python",
      "name": "python3"
    },
    "language_info": {
      "codemirror_mode": {
        "name": "ipython",
        "version": 3
      },
      "file_extension": ".py",
      "mimetype": "text/x-python",
      "name": "python",
      "nbconvert_exporter": "python",
      "pygments_lexer": "ipython3",
      "version": "3.8.6"
    },
    "colab": {
      "name": "Lab4.ipynb",
      "provenance": []
    },
    "accelerator": "GPU"
  },
  "nbformat": 4,
  "nbformat_minor": 5
}
